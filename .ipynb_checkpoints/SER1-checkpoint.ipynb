{
 "cells": [
  {
   "cell_type": "code",
   "execution_count": 1,
   "id": "7750cfe1",
   "metadata": {},
   "outputs": [
    {
     "name": "stdout",
     "output_type": "stream",
     "text": [
      "Requirement already satisfied: librosa in c:\\users\\dell\\appdata\\local\\programs\\python\\python37\\lib\\site-packages (0.8.0)\n",
      "Requirement already satisfied: resampy>=0.2.2 in c:\\users\\dell\\appdata\\local\\programs\\python\\python37\\lib\\site-packages (from librosa) (0.2.2)\n",
      "Requirement already satisfied: pooch>=1.0 in c:\\users\\dell\\appdata\\local\\programs\\python\\python37\\lib\\site-packages (from librosa) (1.3.0)\n",
      "Requirement already satisfied: numpy>=1.15.0 in c:\\users\\dell\\appdata\\local\\programs\\python\\python37\\lib\\site-packages (from librosa) (1.18.4)\n",
      "Requirement already satisfied: soundfile>=0.9.0 in c:\\users\\dell\\appdata\\local\\programs\\python\\python37\\lib\\site-packages (from librosa) (0.10.3.post1)\n",
      "Requirement already satisfied: joblib>=0.14 in c:\\users\\dell\\appdata\\local\\programs\\python\\python37\\lib\\site-packages (from librosa) (1.0.1)\n",
      "Requirement already satisfied: decorator>=3.0.0 in c:\\users\\dell\\appdata\\local\\programs\\python\\python37\\lib\\site-packages (from librosa) (5.0.6)\n",
      "Requirement already satisfied: scipy>=1.0.0 in c:\\users\\dell\\appdata\\local\\programs\\python\\python37\\lib\\site-packages (from librosa) (1.5.2)\n",
      "Requirement already satisfied: numba>=0.43.0 in c:\\users\\dell\\appdata\\local\\programs\\python\\python37\\lib\\site-packages (from librosa) (0.53.1)\n",
      "Requirement already satisfied: audioread>=2.0.0 in c:\\users\\dell\\appdata\\local\\programs\\python\\python37\\lib\\site-packages (from librosa) (2.1.9)\n",
      "Requirement already satisfied: scikit-learn!=0.19.0,>=0.14.0 in c:\\users\\dell\\appdata\\local\\programs\\python\\python37\\lib\\site-packages (from librosa) (0.24.1)\n",
      "Requirement already satisfied: six>=1.3 in c:\\users\\dell\\appdata\\local\\programs\\python\\python37\\lib\\site-packages (from resampy>=0.2.2->librosa) (1.15.0)\n",
      "Requirement already satisfied: appdirs in c:\\users\\dell\\appdata\\local\\programs\\python\\python37\\lib\\site-packages (from pooch>=1.0->librosa) (1.4.4)\n",
      "Requirement already satisfied: packaging in c:\\users\\dell\\appdata\\local\\programs\\python\\python37\\lib\\site-packages (from pooch>=1.0->librosa) (20.9)\n",
      "Requirement already satisfied: requests in c:\\users\\dell\\appdata\\local\\programs\\python\\python37\\lib\\site-packages (from pooch>=1.0->librosa) (2.23.0)\n",
      "Requirement already satisfied: cffi>=1.0 in c:\\users\\dell\\appdata\\local\\programs\\python\\python37\\lib\\site-packages (from soundfile>=0.9.0->librosa) (1.14.5)\n",
      "Requirement already satisfied: setuptools in c:\\users\\dell\\appdata\\local\\programs\\python\\python37\\lib\\site-packages (from numba>=0.43.0->librosa) (50.3.0)\n",
      "Requirement already satisfied: llvmlite<0.37,>=0.36.0rc1 in c:\\users\\dell\\appdata\\local\\programs\\python\\python37\\lib\\site-packages (from numba>=0.43.0->librosa) (0.36.0)\n",
      "Requirement already satisfied: threadpoolctl>=2.0.0 in c:\\users\\dell\\appdata\\local\\programs\\python\\python37\\lib\\site-packages (from scikit-learn!=0.19.0,>=0.14.0->librosa) (2.1.0)\n",
      "Requirement already satisfied: pyparsing>=2.0.2 in c:\\users\\dell\\appdata\\local\\programs\\python\\python37\\lib\\site-packages (from packaging->pooch>=1.0->librosa) (2.4.7)\n",
      "Requirement already satisfied: idna<3,>=2.5 in c:\\users\\dell\\appdata\\local\\programs\\python\\python37\\lib\\site-packages (from requests->pooch>=1.0->librosa) (2.9)\n",
      "Requirement already satisfied: urllib3!=1.25.0,!=1.25.1,<1.26,>=1.21.1 in c:\\users\\dell\\appdata\\local\\programs\\python\\python37\\lib\\site-packages (from requests->pooch>=1.0->librosa) (1.25.9)\n",
      "Requirement already satisfied: chardet<4,>=3.0.2 in c:\\users\\dell\\appdata\\local\\programs\\python\\python37\\lib\\site-packages (from requests->pooch>=1.0->librosa) (3.0.4)\n",
      "Requirement already satisfied: certifi>=2017.4.17 in c:\\users\\dell\\appdata\\local\\programs\\python\\python37\\lib\\site-packages (from requests->pooch>=1.0->librosa) (2020.6.20)\n",
      "Requirement already satisfied: pycparser in c:\\users\\dell\\appdata\\local\\programs\\python\\python37\\lib\\site-packages (from cffi>=1.0->soundfile>=0.9.0->librosa) (2.20)\n",
      "Note: you may need to restart the kernel to use updated packages.\n"
     ]
    },
    {
     "name": "stderr",
     "output_type": "stream",
     "text": [
      "You are using pip version 19.0.3, however version 21.1.1 is available.\n",
      "You should consider upgrading via the 'python -m pip install --upgrade pip' command.\n"
     ]
    }
   ],
   "source": [
    "pip install librosa"
   ]
  },
  {
   "cell_type": "code",
   "execution_count": 2,
   "id": "95316ae6",
   "metadata": {},
   "outputs": [
    {
     "name": "stdout",
     "output_type": "stream",
     "text": [
      "Requirement already satisfied: soundfile in c:\\users\\dell\\appdata\\local\\programs\\python\\python37\\lib\\site-packages (0.10.3.post1)\n",
      "Requirement already satisfied: cffi>=1.0 in c:\\users\\dell\\appdata\\local\\programs\\python\\python37\\lib\\site-packages (from soundfile) (1.14.5)\n",
      "Requirement already satisfied: pycparser in c:\\users\\dell\\appdata\\local\\programs\\python\\python37\\lib\\site-packages (from cffi>=1.0->soundfile) (2.20)\n"
     ]
    },
    {
     "name": "stderr",
     "output_type": "stream",
     "text": [
      "You are using pip version 19.0.3, however version 21.1.1 is available.\n",
      "You should consider upgrading via the 'python -m pip install --upgrade pip' command.\n"
     ]
    }
   ],
   "source": [
    "!pip install soundfile\n"
   ]
  },
  {
   "cell_type": "code",
   "execution_count": 3,
   "id": "fee77481",
   "metadata": {},
   "outputs": [],
   "source": [
    "import librosa\n",
    "import soundfile\n",
    "import os, glob, pickle\n",
    "import numpy as np\n",
    "from sklearn.model_selection import train_test_split\n",
    "from sklearn.neural_network import MLPClassifier\n",
    "from sklearn.metrics import accuracy_score"
   ]
  },
  {
   "cell_type": "code",
   "execution_count": 4,
   "id": "2bb3f44d",
   "metadata": {},
   "outputs": [],
   "source": [
    "import pandas as pd"
   ]
  },
  {
   "cell_type": "code",
   "execution_count": 5,
   "id": "4286e2db",
   "metadata": {},
   "outputs": [],
   "source": [
    "#DataFlair - Extract features (mfcc, chroma, mel) from a sound file\n",
    "def extract_feature(file_name, mfcc, chroma, mel):\n",
    "    with soundfile.SoundFile(file_name) as sound_file:\n",
    "        X = sound_file.read(dtype=\"float32\")\n",
    "        sample_rate=sound_file.samplerate\n",
    "        if chroma:\n",
    "            stft=np.abs(librosa.stft(X))\n",
    "            result=np.array([])\n",
    "        if mfcc:\n",
    "            mfccs=np.mean(librosa.feature.mfcc(y=X, sr=sample_rate, n_mfcc=40).T, axis=0)\n",
    "            result=np.hstack((result, mfccs))\n",
    "        if chroma:\n",
    "            chroma=np.mean(librosa.feature.chroma_stft(S=stft, sr=sample_rate).T,axis=0)\n",
    "            result=np.hstack((result, chroma))\n",
    "        if mel:\n",
    "            mel=np.mean(librosa.feature.melspectrogram(X, sr=sample_rate).T,axis=0)\n",
    "            result=np.hstack((result, mel))\n",
    "    return result"
   ]
  },
  {
   "cell_type": "code",
   "execution_count": 6,
   "id": "6c2ffae1",
   "metadata": {},
   "outputs": [],
   "source": [
    "#DataFlair - Emotions in the RAVDESS dataset\n",
    "emotions={\n",
    "  '01':'neutral',\n",
    "  '02':'calm',\n",
    "  '03':'happy',\n",
    "  '04':'sad',\n",
    "  '05':'angry',\n",
    "  '06':'fearful',\n",
    "  '07':'disgust',\n",
    "  '08':'surprised'\n",
    "}\n",
    "\n",
    "#DataFlair - Emotions to observe\n",
    "observed_emotions=['calm', 'happy', 'fearful', 'disgust']"
   ]
  },
  {
   "cell_type": "code",
   "execution_count": 7,
   "id": "8ddd05e8",
   "metadata": {},
   "outputs": [],
   "source": [
    "#DataFlair - Load the data and extract features for each sound file\n",
    "def load_data(test_size=0.2):\n",
    "    x,y=[],[]\n",
    "    for file in glob.glob(\"C:\\\\Users\\\\DELL\\\\Desktop\\\\MiniProject\\\\Data\\\\Actor_*\\\\*.wav\"):\n",
    "        file_name=os.path.basename(file)\n",
    "        emotion=emotions[file_name.split(\"-\")[2]]\n",
    "        if emotion not in observed_emotions:\n",
    "            continue\n",
    "        feature=extract_feature(file, mfcc=True, chroma=True, mel=True)\n",
    "        x.append(feature)\n",
    "        y.append(emotion)\n",
    "    return train_test_split(np.array(x), y, test_size=test_size, random_state=9)"
   ]
  },
  {
   "cell_type": "code",
   "execution_count": 8,
   "id": "4ef77057",
   "metadata": {},
   "outputs": [],
   "source": [
    "x_train,x_test,y_train,y_test=load_data(test_size=0.2)"
   ]
  },
  {
   "cell_type": "code",
   "execution_count": 9,
   "id": "6008c2a8",
   "metadata": {},
   "outputs": [
    {
     "name": "stdout",
     "output_type": "stream",
     "text": [
      "(614, 154)\n"
     ]
    }
   ],
   "source": [
    "#DataFlair - Get the shape of the training and testing datasets\n",
    "print((x_train.shape[0], x_test.shape[0]))\n"
   ]
  },
  {
   "cell_type": "code",
   "execution_count": 10,
   "id": "39ec93d2",
   "metadata": {},
   "outputs": [
    {
     "name": "stdout",
     "output_type": "stream",
     "text": [
      "Features extracted: 180\n"
     ]
    }
   ],
   "source": [
    "#DataFlair - Get the number of features extracted\n",
    "print(f'Features extracted: {x_train.shape[1]}')"
   ]
  },
  {
   "cell_type": "markdown",
   "id": "142e82d6",
   "metadata": {},
   "source": [
    "## Using MLP"
   ]
  },
  {
   "cell_type": "code",
   "execution_count": 11,
   "id": "1eadf92f",
   "metadata": {},
   "outputs": [],
   "source": [
    "#DataFlair - Initialize the Multi Layer Perceptron Classifier\n",
    "model=MLPClassifier(alpha=0.01, batch_size=256, epsilon=1e-08, hidden_layer_sizes=(300,), learning_rate='adaptive', max_iter=500)"
   ]
  },
  {
   "cell_type": "code",
   "execution_count": 12,
   "id": "e731eb2e",
   "metadata": {},
   "outputs": [
    {
     "data": {
      "text/plain": [
       "MLPClassifier(alpha=0.01, batch_size=256, hidden_layer_sizes=(300,),\n",
       "              learning_rate='adaptive', max_iter=500)"
      ]
     },
     "execution_count": 12,
     "metadata": {},
     "output_type": "execute_result"
    }
   ],
   "source": [
    "#DataFlair - Train the model\n",
    "model.fit(x_train,y_train)"
   ]
  },
  {
   "cell_type": "code",
   "execution_count": 13,
   "id": "ac80bc27",
   "metadata": {},
   "outputs": [],
   "source": [
    "#DataFlair - Predict for the test set\n",
    "y_pred=model.predict(x_test)\n"
   ]
  },
  {
   "cell_type": "code",
   "execution_count": 14,
   "id": "0660ca7d",
   "metadata": {},
   "outputs": [
    {
     "data": {
      "text/plain": [
       "array(['happy', 'calm', 'happy', 'happy', 'fearful', 'calm', 'disgust',\n",
       "       'disgust', 'calm', 'happy', 'happy', 'disgust', 'fearful', 'happy',\n",
       "       'disgust', 'happy', 'calm', 'disgust', 'happy', 'calm', 'calm',\n",
       "       'disgust', 'disgust', 'calm', 'fearful', 'happy', 'calm', 'happy',\n",
       "       'fearful', 'fearful', 'happy', 'disgust', 'happy', 'fearful',\n",
       "       'disgust', 'calm', 'calm', 'fearful', 'calm', 'calm', 'happy',\n",
       "       'calm', 'calm', 'calm', 'fearful', 'calm', 'disgust', 'happy',\n",
       "       'calm', 'happy', 'fearful', 'fearful', 'calm', 'fearful', 'happy',\n",
       "       'fearful', 'disgust', 'happy', 'calm', 'calm', 'disgust', 'calm',\n",
       "       'fearful', 'calm', 'happy', 'calm', 'calm', 'disgust', 'disgust',\n",
       "       'fearful', 'fearful', 'fearful', 'fearful', 'fearful', 'fearful',\n",
       "       'disgust', 'fearful', 'happy', 'calm', 'fearful', 'disgust',\n",
       "       'calm', 'fearful', 'calm', 'disgust', 'calm', 'disgust', 'fearful',\n",
       "       'disgust', 'fearful', 'disgust', 'fearful', 'calm', 'happy',\n",
       "       'disgust', 'fearful', 'calm', 'calm', 'calm', 'calm', 'fearful',\n",
       "       'calm', 'disgust', 'fearful', 'disgust', 'calm', 'disgust',\n",
       "       'happy', 'fearful', 'happy', 'happy', 'calm', 'calm', 'fearful',\n",
       "       'fearful', 'calm', 'calm', 'happy', 'calm', 'fearful', 'happy',\n",
       "       'calm', 'disgust', 'happy', 'fearful', 'calm', 'disgust', 'happy',\n",
       "       'calm', 'calm', 'fearful', 'happy', 'fearful', 'happy', 'disgust',\n",
       "       'disgust', 'fearful', 'calm', 'fearful', 'disgust', 'calm',\n",
       "       'fearful', 'fearful', 'disgust', 'happy', 'fearful', 'fearful',\n",
       "       'fearful', 'fearful', 'calm', 'calm', 'disgust', 'happy', 'calm'],\n",
       "      dtype='<U7')"
      ]
     },
     "execution_count": 14,
     "metadata": {},
     "output_type": "execute_result"
    }
   ],
   "source": [
    "y_pred"
   ]
  },
  {
   "cell_type": "code",
   "execution_count": 15,
   "id": "a9a4e0a4",
   "metadata": {},
   "outputs": [
    {
     "name": "stdout",
     "output_type": "stream",
     "text": [
      "Accuracy: 73.38%\n"
     ]
    }
   ],
   "source": [
    "#DataFlair - Calculate the accuracy of our model\n",
    "accuracy=accuracy_score(y_true=y_test, y_pred=y_pred)\n",
    "\n",
    "#DataFlair - Print the accuracy\n",
    "print(\"Accuracy: {:.2f}%\".format(accuracy*100))"
   ]
  },
  {
   "cell_type": "markdown",
   "id": "5ed93e59",
   "metadata": {},
   "source": [
    "## using KNN algo"
   ]
  },
  {
   "cell_type": "code",
   "execution_count": 16,
   "id": "94ac9f76",
   "metadata": {},
   "outputs": [],
   "source": [
    "from sklearn import neighbors"
   ]
  },
  {
   "cell_type": "code",
   "execution_count": 17,
   "id": "e2693d11",
   "metadata": {},
   "outputs": [
    {
     "name": "stdout",
     "output_type": "stream",
     "text": [
      "Prediction : \n",
      "['happy' 'calm' 'fearful' 'disgust' 'disgust' 'calm' 'disgust' 'fearful'\n",
      " 'disgust' 'happy' 'happy' 'disgust' 'fearful' 'happy' 'disgust' 'fearful'\n",
      " 'calm' 'disgust' 'happy' 'disgust' 'calm' 'happy' 'fearful' 'calm'\n",
      " 'happy' 'happy' 'calm' 'disgust' 'fearful' 'fearful' 'happy' 'disgust'\n",
      " 'happy' 'calm' 'happy' 'calm' 'calm' 'fearful' 'calm' 'calm' 'happy'\n",
      " 'calm' 'calm' 'calm' 'disgust' 'disgust' 'disgust' 'disgust' 'calm'\n",
      " 'happy' 'fearful' 'fearful' 'calm' 'fearful' 'disgust' 'fearful'\n",
      " 'disgust' 'happy' 'calm' 'calm' 'disgust' 'calm' 'disgust' 'calm' 'happy'\n",
      " 'calm' 'calm' 'disgust' 'calm' 'happy' 'calm' 'fearful' 'fearful'\n",
      " 'fearful' 'fearful' 'disgust' 'fearful' 'happy' 'calm' 'happy' 'calm'\n",
      " 'calm' 'disgust' 'calm' 'disgust' 'disgust' 'calm' 'disgust' 'disgust'\n",
      " 'disgust' 'disgust' 'disgust' 'calm' 'fearful' 'fearful' 'fearful' 'calm'\n",
      " 'calm' 'calm' 'calm' 'fearful' 'fearful' 'disgust' 'happy' 'disgust'\n",
      " 'calm' 'fearful' 'calm' 'happy' 'happy' 'calm' 'calm' 'disgust' 'calm'\n",
      " 'fearful' 'calm' 'disgust' 'happy' 'calm' 'fearful' 'calm' 'happy' 'calm'\n",
      " 'happy' 'fearful' 'calm' 'disgust' 'fearful' 'calm' 'calm' 'fearful'\n",
      " 'happy' 'fearful' 'disgust' 'disgust' 'happy' 'fearful' 'calm' 'disgust'\n",
      " 'disgust' 'calm' 'calm' 'disgust' 'fearful' 'disgust' 'fearful' 'disgust'\n",
      " 'happy' 'happy' 'calm' 'calm' 'disgust' 'happy' 'calm']\n"
     ]
    }
   ],
   "source": [
    "clf=neighbors.KNeighborsClassifier()\n",
    "clf.fit(x_train,y_train)\n",
    "print(\"Prediction : \")\n",
    "y_pred_2 = clf.predict(x_test)\n",
    "print(y_pred_2)"
   ]
  },
  {
   "cell_type": "code",
   "execution_count": 18,
   "id": "fe4a771c",
   "metadata": {},
   "outputs": [
    {
     "name": "stdout",
     "output_type": "stream",
     "text": [
      "Accuracy: 70.13%\n"
     ]
    }
   ],
   "source": [
    "accuracy=accuracy_score(y_true=y_test, y_pred=y_pred_2)\n",
    "\n",
    "#DataFlair - Print the accuracy\n",
    "print(\"Accuracy: {:.2f}%\".format(accuracy*100))"
   ]
  },
  {
   "cell_type": "markdown",
   "id": "346a8fa4",
   "metadata": {},
   "source": [
    "## Using Decision Tree"
   ]
  },
  {
   "cell_type": "code",
   "execution_count": 19,
   "id": "db2d4cf1",
   "metadata": {},
   "outputs": [],
   "source": [
    "from sklearn import tree\n",
    "clf = tree.DecisionTreeClassifier()\n",
    "clf = clf.fit(x_train,y_train)"
   ]
  },
  {
   "cell_type": "code",
   "execution_count": 20,
   "id": "65dc5cc4",
   "metadata": {},
   "outputs": [
    {
     "data": {
      "text/plain": [
       "array(['happy', 'calm', 'disgust', 'fearful', 'fearful', 'fearful',\n",
       "       'disgust', 'fearful', 'disgust', 'happy', 'happy', 'disgust',\n",
       "       'fearful', 'happy', 'disgust', 'fearful', 'calm', 'fearful',\n",
       "       'happy', 'fearful', 'calm', 'disgust', 'disgust', 'calm', 'happy',\n",
       "       'happy', 'happy', 'happy', 'calm', 'calm', 'happy', 'fearful',\n",
       "       'happy', 'calm', 'happy', 'calm', 'calm', 'fearful', 'calm',\n",
       "       'calm', 'happy', 'calm', 'calm', 'calm', 'disgust', 'calm',\n",
       "       'happy', 'happy', 'happy', 'happy', 'fearful', 'fearful',\n",
       "       'disgust', 'fearful', 'happy', 'fearful', 'happy', 'happy', 'calm',\n",
       "       'calm', 'disgust', 'calm', 'disgust', 'disgust', 'happy',\n",
       "       'disgust', 'calm', 'fearful', 'calm', 'fearful', 'disgust',\n",
       "       'fearful', 'fearful', 'happy', 'happy', 'disgust', 'disgust',\n",
       "       'happy', 'calm', 'fearful', 'calm', 'calm', 'disgust', 'calm',\n",
       "       'happy', 'fearful', 'calm', 'disgust', 'happy', 'fearful', 'calm',\n",
       "       'disgust', 'calm', 'happy', 'fearful', 'happy', 'calm', 'calm',\n",
       "       'happy', 'disgust', 'fearful', 'disgust', 'calm', 'disgust',\n",
       "       'fearful', 'calm', 'fearful', 'happy', 'happy', 'happy', 'disgust',\n",
       "       'happy', 'happy', 'calm', 'fearful', 'calm', 'calm', 'happy',\n",
       "       'fearful', 'disgust', 'calm', 'happy', 'fearful', 'happy', 'happy',\n",
       "       'calm', 'fearful', 'happy', 'calm', 'calm', 'fearful', 'happy',\n",
       "       'disgust', 'fearful', 'disgust', 'disgust', 'disgust', 'calm',\n",
       "       'happy', 'disgust', 'disgust', 'fearful', 'happy', 'happy',\n",
       "       'happy', 'fearful', 'happy', 'fearful', 'calm', 'calm', 'calm',\n",
       "       'disgust', 'happy', 'happy'], dtype='<U7')"
      ]
     },
     "execution_count": 20,
     "metadata": {},
     "output_type": "execute_result"
    }
   ],
   "source": [
    "y_pred_3 = clf.predict(x_test)\n",
    "y_pred_3"
   ]
  },
  {
   "cell_type": "code",
   "execution_count": 21,
   "id": "92ec0e3b",
   "metadata": {},
   "outputs": [
    {
     "name": "stdout",
     "output_type": "stream",
     "text": [
      "Accuracy: 55.84%\n"
     ]
    }
   ],
   "source": [
    "accuracy=accuracy_score(y_true=y_test, y_pred=y_pred_3)\n",
    "\n",
    "#DataFlair - Print the accuracy\n",
    "print(\"Accuracy: {:.2f}%\".format(accuracy*100))"
   ]
  },
  {
   "cell_type": "code",
   "execution_count": 22,
   "id": "c7f5f212",
   "metadata": {},
   "outputs": [
    {
     "name": "stdout",
     "output_type": "stream",
     "text": [
      "['happy', 'calm', 'happy', 'happy', 'disgust', 'calm', 'happy', 'happy', 'disgust', 'happy', 'happy', 'disgust', 'happy', 'happy', 'disgust', 'fearful', 'calm', 'happy', 'disgust', 'disgust', 'calm', 'disgust', 'disgust', 'calm', 'happy', 'happy', 'disgust', 'disgust', 'calm', 'calm', 'happy', 'disgust', 'happy', 'fearful', 'fearful', 'calm', 'calm', 'fearful', 'calm', 'calm', 'happy', 'disgust', 'calm', 'calm', 'disgust', 'calm', 'disgust', 'happy', 'calm', 'happy', 'fearful', 'fearful', 'fearful', 'fearful', 'happy', 'fearful', 'disgust', 'happy', 'calm', 'calm', 'disgust', 'calm', 'disgust', 'calm', 'disgust', 'calm', 'calm', 'disgust', 'disgust', 'happy', 'fearful', 'fearful', 'fearful', 'fearful', 'fearful', 'disgust', 'fearful', 'happy', 'calm', 'fearful', 'disgust', 'calm', 'happy', 'calm', 'disgust', 'fearful', 'calm', 'happy', 'disgust', 'fearful', 'disgust', 'disgust', 'calm', 'fearful', 'disgust', 'fearful', 'calm', 'calm', 'calm', 'disgust', 'fearful', 'disgust', 'disgust', 'fearful', 'disgust', 'calm', 'disgust', 'happy', 'fearful', 'happy', 'happy', 'calm', 'calm', 'fearful', 'fearful', 'calm', 'calm', 'happy', 'calm', 'fearful', 'calm', 'happy', 'calm', 'happy', 'fearful', 'calm', 'disgust', 'fearful', 'calm', 'calm', 'fearful', 'happy', 'happy', 'disgust', 'disgust', 'happy', 'fearful', 'calm', 'disgust', 'disgust', 'calm', 'fearful', 'disgust', 'disgust', 'happy', 'fearful', 'fearful', 'disgust', 'happy', 'calm', 'happy', 'disgust', 'happy', 'calm']\n"
     ]
    }
   ],
   "source": [
    "print(y_test)"
   ]
  },
  {
   "cell_type": "markdown",
   "id": "ff177dfb",
   "metadata": {},
   "source": [
    "## Using ranodm forest calssifier -- so far the best"
   ]
  },
  {
   "cell_type": "code",
   "execution_count": 23,
   "id": "7bff413c",
   "metadata": {},
   "outputs": [],
   "source": [
    "from sklearn.ensemble import RandomForestClassifier"
   ]
  },
  {
   "cell_type": "code",
   "execution_count": 24,
   "id": "1e98106e",
   "metadata": {},
   "outputs": [
    {
     "data": {
      "text/plain": [
       "array(['happy', 'calm', 'disgust', 'happy', 'disgust', 'calm', 'disgust',\n",
       "       'fearful', 'calm', 'happy', 'happy', 'disgust', 'fearful', 'happy',\n",
       "       'disgust', 'happy', 'calm', 'disgust', 'happy', 'disgust', 'calm',\n",
       "       'disgust', 'disgust', 'calm', 'happy', 'disgust', 'calm', 'happy',\n",
       "       'calm', 'calm', 'happy', 'disgust', 'happy', 'calm', 'happy',\n",
       "       'calm', 'calm', 'fearful', 'calm', 'calm', 'happy', 'calm', 'calm',\n",
       "       'calm', 'disgust', 'calm', 'disgust', 'happy', 'calm', 'happy',\n",
       "       'fearful', 'fearful', 'calm', 'fearful', 'happy', 'fearful',\n",
       "       'disgust', 'happy', 'calm', 'calm', 'disgust', 'calm', 'disgust',\n",
       "       'calm', 'happy', 'calm', 'calm', 'disgust', 'calm', 'fearful',\n",
       "       'fearful', 'fearful', 'fearful', 'fearful', 'fearful', 'disgust',\n",
       "       'fearful', 'happy', 'calm', 'fearful', 'calm', 'calm', 'disgust',\n",
       "       'calm', 'disgust', 'disgust', 'calm', 'disgust', 'happy',\n",
       "       'disgust', 'disgust', 'disgust', 'calm', 'fearful', 'disgust',\n",
       "       'fearful', 'calm', 'calm', 'calm', 'calm', 'fearful', 'disgust',\n",
       "       'calm', 'disgust', 'calm', 'calm', 'disgust', 'calm', 'fearful',\n",
       "       'happy', 'disgust', 'calm', 'fearful', 'calm', 'fearful', 'calm',\n",
       "       'calm', 'happy', 'happy', 'disgust', 'disgust', 'calm', 'calm',\n",
       "       'happy', 'fearful', 'calm', 'disgust', 'happy', 'calm', 'calm',\n",
       "       'fearful', 'happy', 'happy', 'disgust', 'disgust', 'fearful',\n",
       "       'disgust', 'calm', 'disgust', 'happy', 'calm', 'calm', 'disgust',\n",
       "       'happy', 'happy', 'fearful', 'disgust', 'fearful', 'disgust',\n",
       "       'calm', 'calm', 'happy', 'happy', 'calm'], dtype='<U7')"
      ]
     },
     "execution_count": 24,
     "metadata": {},
     "output_type": "execute_result"
    }
   ],
   "source": [
    "clf = RandomForestClassifier()\n",
    "clf = clf.fit(x_train,y_train)\n",
    "y_pred_4 = clf.predict(x_test)\n",
    "y_pred_4\n"
   ]
  },
  {
   "cell_type": "code",
   "execution_count": 25,
   "id": "a869c8ca",
   "metadata": {},
   "outputs": [
    {
     "name": "stdout",
     "output_type": "stream",
     "text": [
      "Accuracy: 69.48%\n"
     ]
    }
   ],
   "source": [
    "accuracy=accuracy_score(y_true=y_test, y_pred=y_pred_4)\n",
    "\n",
    "#DataFlair - Print the accuracy\n",
    "print(\"Accuracy: {:.2f}%\".format(accuracy*100))"
   ]
  },
  {
   "cell_type": "markdown",
   "id": "4a8f1c0d",
   "metadata": {},
   "source": [
    "## Linear Discriminant Analysis"
   ]
  },
  {
   "cell_type": "code",
   "execution_count": 26,
   "id": "a6f7abe1",
   "metadata": {},
   "outputs": [],
   "source": [
    "from sklearn.discriminant_analysis import LinearDiscriminantAnalysis"
   ]
  },
  {
   "cell_type": "code",
   "execution_count": 27,
   "id": "375aa99f",
   "metadata": {},
   "outputs": [
    {
     "data": {
      "text/plain": [
       "array(['happy', 'calm', 'happy', 'happy', 'disgust', 'happy', 'calm',\n",
       "       'disgust', 'calm', 'disgust', 'calm', 'calm', 'calm', 'happy',\n",
       "       'disgust', 'calm', 'calm', 'disgust', 'happy', 'disgust', 'calm',\n",
       "       'calm', 'disgust', 'calm', 'happy', 'happy', 'fearful', 'happy',\n",
       "       'calm', 'happy', 'happy', 'disgust', 'calm', 'calm', 'disgust',\n",
       "       'calm', 'calm', 'fearful', 'calm', 'calm', 'happy', 'calm', 'calm',\n",
       "       'calm', 'disgust', 'calm', 'disgust', 'calm', 'calm', 'happy',\n",
       "       'happy', 'happy', 'fearful', 'happy', 'happy', 'fearful',\n",
       "       'disgust', 'happy', 'calm', 'calm', 'disgust', 'calm', 'happy',\n",
       "       'calm', 'disgust', 'calm', 'calm', 'disgust', 'disgust', 'happy',\n",
       "       'fearful', 'fearful', 'fearful', 'fearful', 'happy', 'disgust',\n",
       "       'fearful', 'fearful', 'calm', 'fearful', 'calm', 'calm', 'fearful',\n",
       "       'calm', 'disgust', 'fearful', 'calm', 'fearful', 'disgust',\n",
       "       'disgust', 'disgust', 'calm', 'calm', 'disgust', 'disgust',\n",
       "       'happy', 'calm', 'calm', 'calm', 'calm', 'fearful', 'fearful',\n",
       "       'disgust', 'happy', 'disgust', 'disgust', 'disgust', 'fearful',\n",
       "       'fearful', 'happy', 'happy', 'calm', 'fearful', 'happy', 'fearful',\n",
       "       'calm', 'calm', 'happy', 'calm', 'fearful', 'disgust', 'disgust',\n",
       "       'disgust', 'disgust', 'happy', 'calm', 'disgust', 'fearful',\n",
       "       'calm', 'calm', 'happy', 'happy', 'calm', 'disgust', 'disgust',\n",
       "       'happy', 'fearful', 'calm', 'disgust', 'happy', 'calm', 'calm',\n",
       "       'disgust', 'happy', 'happy', 'fearful', 'disgust', 'fearful',\n",
       "       'fearful', 'calm', 'calm', 'fearful', 'fearful', 'disgust'],\n",
       "      dtype='<U7')"
      ]
     },
     "execution_count": 27,
     "metadata": {},
     "output_type": "execute_result"
    }
   ],
   "source": [
    "clf = LinearDiscriminantAnalysis()\n",
    "clf = clf.fit(x_train,y_train)\n",
    "y_pred_5 = clf.predict(x_test)\n",
    "y_pred_5"
   ]
  },
  {
   "cell_type": "code",
   "execution_count": 28,
   "id": "5a6e909a",
   "metadata": {},
   "outputs": [
    {
     "name": "stdout",
     "output_type": "stream",
     "text": [
      "Accuracy: 62.99%\n"
     ]
    }
   ],
   "source": [
    "accuracy=accuracy_score(y_true=y_test, y_pred=y_pred_5)\n",
    "\n",
    "#DataFlair - Print the accuracy\n",
    "print(\"Accuracy: {:.2f}%\".format(accuracy*100))"
   ]
  },
  {
   "cell_type": "markdown",
   "id": "d830e633",
   "metadata": {},
   "source": [
    "## Using NuSVC"
   ]
  },
  {
   "cell_type": "code",
   "execution_count": 29,
   "id": "74cb4d08",
   "metadata": {},
   "outputs": [],
   "source": [
    "from sklearn.svm import NuSVC"
   ]
  },
  {
   "cell_type": "code",
   "execution_count": 30,
   "id": "120d3fdb",
   "metadata": {},
   "outputs": [
    {
     "data": {
      "text/plain": [
       "NuSVC(probability=True)"
      ]
     },
     "execution_count": 30,
     "metadata": {},
     "output_type": "execute_result"
    }
   ],
   "source": [
    "clf = NuSVC(probability=True)\n",
    "clf.fit(x_train,y_train)"
   ]
  },
  {
   "cell_type": "code",
   "execution_count": 31,
   "id": "5cc99aba",
   "metadata": {},
   "outputs": [
    {
     "data": {
      "text/plain": [
       "array(['happy', 'calm', 'happy', 'happy', 'disgust', 'calm', 'disgust',\n",
       "       'happy', 'calm', 'disgust', 'happy', 'fearful', 'fearful', 'happy',\n",
       "       'disgust', 'happy', 'calm', 'disgust', 'disgust', 'disgust',\n",
       "       'calm', 'disgust', 'disgust', 'calm', 'calm', 'happy', 'calm',\n",
       "       'happy', 'calm', 'calm', 'happy', 'disgust', 'happy', 'calm',\n",
       "       'disgust', 'calm', 'calm', 'fearful', 'calm', 'calm', 'calm',\n",
       "       'calm', 'calm', 'calm', 'disgust', 'calm', 'disgust', 'calm',\n",
       "       'calm', 'happy', 'fearful', 'fearful', 'calm', 'happy', 'happy',\n",
       "       'happy', 'calm', 'happy', 'calm', 'calm', 'disgust', 'calm',\n",
       "       'happy', 'calm', 'calm', 'calm', 'calm', 'disgust', 'calm',\n",
       "       'fearful', 'calm', 'fearful', 'fearful', 'fearful', 'fearful',\n",
       "       'disgust', 'fearful', 'calm', 'calm', 'fearful', 'calm', 'calm',\n",
       "       'fearful', 'calm', 'disgust', 'happy', 'calm', 'fearful', 'happy',\n",
       "       'disgust', 'disgust', 'disgust', 'calm', 'happy', 'disgust',\n",
       "       'disgust', 'calm', 'calm', 'calm', 'calm', 'fearful', 'calm',\n",
       "       'calm', 'disgust', 'calm', 'calm', 'disgust', 'calm', 'calm',\n",
       "       'happy', 'happy', 'calm', 'disgust', 'calm', 'fearful', 'calm',\n",
       "       'calm', 'happy', 'fearful', 'fearful', 'disgust', 'calm', 'happy',\n",
       "       'happy', 'fearful', 'calm', 'disgust', 'fearful', 'calm', 'calm',\n",
       "       'fearful', 'calm', 'happy', 'happy', 'disgust', 'happy', 'calm',\n",
       "       'calm', 'disgust', 'happy', 'calm', 'calm', 'happy', 'fearful',\n",
       "       'happy', 'disgust', 'disgust', 'fearful', 'calm', 'calm', 'calm',\n",
       "       'happy', 'happy', 'calm'], dtype='<U7')"
      ]
     },
     "execution_count": 31,
     "metadata": {},
     "output_type": "execute_result"
    }
   ],
   "source": [
    "y_pred_6 = clf.predict(x_test)\n",
    "y_pred_6"
   ]
  },
  {
   "cell_type": "code",
   "execution_count": 32,
   "id": "7b5c8c6f",
   "metadata": {},
   "outputs": [
    {
     "name": "stdout",
     "output_type": "stream",
     "text": [
      "Accuracy: 61.69%\n"
     ]
    }
   ],
   "source": [
    "accuracy=accuracy_score(y_true=y_test, y_pred=y_pred_6)\n",
    "\n",
    "#DataFlair - Print the accuracy\n",
    "print(\"Accuracy: {:.2f}%\".format(accuracy*100))"
   ]
  },
  {
   "cell_type": "code",
   "execution_count": null,
   "id": "9bffa488",
   "metadata": {},
   "outputs": [],
   "source": []
  }
 ],
 "metadata": {
  "kernelspec": {
   "display_name": "Python 3",
   "language": "python",
   "name": "python3"
  },
  "language_info": {
   "codemirror_mode": {
    "name": "ipython",
    "version": 3
   },
   "file_extension": ".py",
   "mimetype": "text/x-python",
   "name": "python",
   "nbconvert_exporter": "python",
   "pygments_lexer": "ipython3",
   "version": "3.7.4"
  }
 },
 "nbformat": 4,
 "nbformat_minor": 5
}
