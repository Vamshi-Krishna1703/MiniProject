{
 "cells": [
  {
   "cell_type": "code",
   "execution_count": 1,
   "id": "12fe263f",
   "metadata": {},
   "outputs": [],
   "source": [
    "import librosa\n",
    "import soundfile\n",
    "import os, glob, pickle\n",
    "import numpy as np\n",
    "from sklearn.model_selection import train_test_split\n",
    "from sklearn.neural_network import MLPClassifier\n",
    "from sklearn.metrics import accuracy_score"
   ]
  },
  {
   "cell_type": "code",
   "execution_count": 2,
   "id": "991dd0bb",
   "metadata": {},
   "outputs": [],
   "source": [
    "#DataFlair - Extract features (mfcc, chroma, mel) from a sound file\n",
    "def extract_feature(file_name, mfcc, chroma, mel):\n",
    "    with soundfile.SoundFile(file_name) as sound_file:\n",
    "        X = sound_file.read(dtype=\"float32\")\n",
    "        sample_rate=sound_file.samplerate\n",
    "        if chroma:\n",
    "            stft=np.abs(librosa.stft(X))\n",
    "        result=np.array([])\n",
    "        if mfcc:\n",
    "            mfccs=np.mean(librosa.feature.mfcc(y=X, sr=sample_rate, n_mfcc=40).T, axis=0)\n",
    "            result=np.hstack((result, mfccs))\n",
    "        if chroma:\n",
    "            chroma=np.mean(librosa.feature.chroma_stft(S=stft, sr=sample_rate).T,axis=0)\n",
    "            result=np.hstack((result, chroma))\n",
    "        if mel:\n",
    "            mel=np.mean(librosa.feature.melspectrogram(X, sr=sample_rate).T,axis=0)\n",
    "            result=np.hstack((result, mel))\n",
    "    return result"
   ]
  },
  {
   "cell_type": "code",
   "execution_count": 3,
   "id": "957e560d",
   "metadata": {},
   "outputs": [],
   "source": [
    "#DataFlair - Emotions in the RAVDESS dataset\n",
    "emotions={\n",
    "  '01':'neutral',\n",
    "  '02':'calm',\n",
    "  '03':'happy',\n",
    "  '04':'sad',\n",
    "  '05':'angry',\n",
    "  '06':'fearful',\n",
    "  '07':'disgust',\n",
    "  '08':'surprised'\n",
    "}\n",
    "\n",
    "#DataFlair - Emotions to observe\n",
    "observed_emotions=['calm', 'happy', 'fearful', 'disgust']"
   ]
  },
  {
   "cell_type": "code",
   "execution_count": 22,
   "id": "9379114f",
   "metadata": {},
   "outputs": [],
   "source": [
    "#DataFlair - Load the data and extract features for each sound file\n",
    "def load_data(test_size=0.2):\n",
    "    x,y=[],[]\n",
    "    for file in glob.glob(\"C:\\\\Users\\\\DELL\\\\Desktop\\\\MiniProject\\\\Data\\\\Actor_*\\\\*.wav\"):\n",
    "        file_name=os.path.basename(file)\n",
    "        emotion=emotions[file_name.split(\"-\")[2]]\n",
    "        if emotion not in observed_emotions:\n",
    "            continue\n",
    "        feature=extract_feature(file, mfcc=True, chroma=True, mel=True)\n",
    "        x.append(feature)\n",
    "        y.append(emotion)\n",
    "    return train_test_split(np.array(x), y, test_size=test_size, random_state=9)"
   ]
  },
  {
   "cell_type": "code",
   "execution_count": 23,
   "id": "8eea44bf",
   "metadata": {},
   "outputs": [],
   "source": [
    "#DataFlair - Split the dataset\n",
    "x_train,x_test,y_train,y_test=load_data(test_size=0.2)"
   ]
  },
  {
   "cell_type": "code",
   "execution_count": 6,
   "id": "e414210f",
   "metadata": {},
   "outputs": [
    {
     "name": "stdout",
     "output_type": "stream",
     "text": [
      "(614, 154)\n"
     ]
    }
   ],
   "source": [
    "#DataFlair - Get the shape of the training and testing datasets\n",
    "print((x_train.shape[0], x_test.shape[0]))"
   ]
  },
  {
   "cell_type": "code",
   "execution_count": 7,
   "id": "de63da11",
   "metadata": {},
   "outputs": [
    {
     "name": "stdout",
     "output_type": "stream",
     "text": [
      "Features extracted: 180\n"
     ]
    }
   ],
   "source": [
    "#DataFlair - Get the number of features extracted\n",
    "print(f'Features extracted: {x_train.shape[1]}')"
   ]
  },
  {
   "cell_type": "code",
   "execution_count": 8,
   "id": "78b430cd",
   "metadata": {},
   "outputs": [],
   "source": [
    "#DataFlair - Initialize the Multi Layer Perceptron Classifier\n",
    "model=MLPClassifier(alpha=0.01, batch_size=256, epsilon=1e-08, hidden_layer_sizes=(300,), learning_rate='adaptive', max_iter=500)"
   ]
  },
  {
   "cell_type": "code",
   "execution_count": 9,
   "id": "1833a3a2",
   "metadata": {},
   "outputs": [
    {
     "data": {
      "text/plain": [
       "MLPClassifier(alpha=0.01, batch_size=256, hidden_layer_sizes=(300,),\n",
       "              learning_rate='adaptive', max_iter=500)"
      ]
     },
     "execution_count": 9,
     "metadata": {},
     "output_type": "execute_result"
    }
   ],
   "source": [
    "#DataFlair - Train the model\n",
    "model.fit(x_train,y_train)"
   ]
  },
  {
   "cell_type": "code",
   "execution_count": 10,
   "id": "9e7a107e",
   "metadata": {},
   "outputs": [],
   "source": [
    "#DataFlair - Predict for the test set\n",
    "y_pred=model.predict(x_test)"
   ]
  },
  {
   "cell_type": "code",
   "execution_count": 11,
   "id": "f962f109",
   "metadata": {},
   "outputs": [
    {
     "data": {
      "text/plain": [
       "array(['happy', 'calm', 'happy', 'happy', 'disgust', 'calm', 'happy',\n",
       "       'disgust', 'calm', 'happy', 'happy', 'fearful', 'fearful', 'happy',\n",
       "       'disgust', 'happy', 'calm', 'happy', 'happy', 'calm', 'calm',\n",
       "       'disgust', 'disgust', 'calm', 'happy', 'happy', 'calm', 'happy',\n",
       "       'fearful', 'fearful', 'happy', 'fearful', 'happy', 'calm', 'happy',\n",
       "       'calm', 'calm', 'fearful', 'calm', 'disgust', 'happy', 'calm',\n",
       "       'calm', 'calm', 'fearful', 'calm', 'disgust', 'happy', 'calm',\n",
       "       'happy', 'fearful', 'fearful', 'fearful', 'happy', 'happy',\n",
       "       'fearful', 'calm', 'happy', 'calm', 'calm', 'disgust', 'calm',\n",
       "       'happy', 'calm', 'disgust', 'calm', 'calm', 'calm', 'disgust',\n",
       "       'happy', 'fearful', 'fearful', 'fearful', 'fearful', 'fearful',\n",
       "       'disgust', 'fearful', 'happy', 'calm', 'fearful', 'disgust',\n",
       "       'calm', 'fearful', 'calm', 'disgust', 'calm', 'disgust', 'fearful',\n",
       "       'disgust', 'fearful', 'disgust', 'calm', 'calm', 'happy',\n",
       "       'disgust', 'fearful', 'calm', 'calm', 'calm', 'disgust', 'fearful',\n",
       "       'fearful', 'disgust', 'fearful', 'fearful', 'calm', 'disgust',\n",
       "       'happy', 'fearful', 'happy', 'happy', 'calm', 'calm', 'fearful',\n",
       "       'fearful', 'calm', 'calm', 'happy', 'calm', 'fearful', 'calm',\n",
       "       'calm', 'calm', 'happy', 'fearful', 'calm', 'disgust', 'happy',\n",
       "       'calm', 'calm', 'fearful', 'happy', 'happy', 'disgust', 'disgust',\n",
       "       'disgust', 'fearful', 'calm', 'fearful', 'disgust', 'calm',\n",
       "       'fearful', 'disgust', 'fearful', 'happy', 'fearful', 'disgust',\n",
       "       'fearful', 'fearful', 'calm', 'calm', 'disgust', 'happy', 'calm'],\n",
       "      dtype='<U7')"
      ]
     },
     "execution_count": 11,
     "metadata": {},
     "output_type": "execute_result"
    }
   ],
   "source": [
    "y_pred"
   ]
  },
  {
   "cell_type": "code",
   "execution_count": 12,
   "id": "b65271d2",
   "metadata": {},
   "outputs": [
    {
     "name": "stdout",
     "output_type": "stream",
     "text": [
      "Accuracy: 75.32%\n"
     ]
    }
   ],
   "source": [
    "#DataFlair - Calculate the accuracy of our model\n",
    "accuracy=accuracy_score(y_true=y_test, y_pred=y_pred)\n",
    "\n",
    "#DataFlair - Print the accuracy\n",
    "print(\"Accuracy: {:.2f}%\".format(accuracy*100))"
   ]
  },
  {
   "cell_type": "code",
   "execution_count": 13,
   "id": "fdd10ac5",
   "metadata": {},
   "outputs": [
    {
     "data": {
      "text/plain": [
       "array([[-5.18490479e+02,  5.00726852e+01, -1.14204607e+01, ...,\n",
       "         4.87677426e-05,  3.57282370e-05,  2.55957166e-05],\n",
       "       [-6.42915588e+02,  7.66249466e+01,  2.75691390e+00, ...,\n",
       "         4.64339200e-06,  2.52479435e-06,  1.17451077e-06],\n",
       "       [-6.24726013e+02,  6.19622231e+01,  1.62521229e+01, ...,\n",
       "         3.24165521e-05,  3.35850164e-05,  1.60543987e-05],\n",
       "       ...,\n",
       "       [-5.50096191e+02,  1.70297680e+01, -1.14575644e+01, ...,\n",
       "         1.51764645e-04,  1.16828553e-04,  8.47479387e-05],\n",
       "       [-5.55371155e+02,  4.71378479e+01,  1.10560827e+01, ...,\n",
       "         1.61086486e-04,  1.04962528e-04,  6.52812014e-05],\n",
       "       [-5.04864716e+02,  3.52971039e+01, -1.44038277e+01, ...,\n",
       "         6.08151604e-04,  5.55269711e-04,  4.47782280e-04]])"
      ]
     },
     "execution_count": 13,
     "metadata": {},
     "output_type": "execute_result"
    }
   ],
   "source": [
    "x_train\n"
   ]
  },
  {
   "cell_type": "code",
   "execution_count": 24,
   "id": "51f1e52f",
   "metadata": {},
   "outputs": [
    {
     "name": "stdout",
     "output_type": "stream",
     "text": [
      "test.wav\n"
     ]
    }
   ],
   "source": [
    "file_path = \"C:\\\\Users\\\\DELL\\\\Desktop\\\\MiniProject\\\\audio\\\\test.wav\"\n",
    "\n",
    "fs=extract_feature(file_path, mfcc=True, chroma=True, mel=True)\n",
    "example_x = []\n",
    "example_x.append(fs)"
   ]
  },
  {
   "cell_type": "code",
   "execution_count": 25,
   "id": "2fc5da02",
   "metadata": {},
   "outputs": [
    {
     "name": "stdout",
     "output_type": "stream",
     "text": [
      "[array([-7.36547791e+02,  6.72349243e+01,  1.50432024e+01,  2.05692387e+01,\n",
      "        9.34642029e+00,  4.38416386e+00, -7.77738237e+00, -3.56373221e-01,\n",
      "        2.81057537e-01, -5.70972013e+00,  1.83892238e+00,  1.86935675e+00,\n",
      "       -3.60532737e+00,  2.92290139e+00, -4.95185316e-01,  2.20956063e+00,\n",
      "       -4.23454237e+00,  7.80095398e-01,  5.93093514e-01, -2.84174466e+00,\n",
      "       -4.28347683e+00, -1.40699399e+00, -2.44453573e+00,  3.35919023e-01,\n",
      "       -2.33561969e+00, -3.06902677e-01, -6.90777957e-01, -2.02748775e+00,\n",
      "       -1.25453210e+00, -1.31771672e+00, -2.29047489e+00, -3.42989981e-01,\n",
      "       -1.54778790e+00, -1.30557287e+00, -3.52091742e+00, -2.17956829e+00,\n",
      "       -1.26315558e+00, -1.58135593e+00, -2.07610774e+00, -2.98832250e+00,\n",
      "        5.85396230e-01,  5.15201092e-01,  4.70274597e-01,  4.77667511e-01,\n",
      "        4.90583420e-01,  5.27075827e-01,  5.66979229e-01,  5.74921906e-01,\n",
      "        5.60593128e-01,  5.47505796e-01,  5.29757202e-01,  5.66312075e-01,\n",
      "        4.29448883e-05,  5.53915888e-05,  4.70295129e-03,  1.97615474e-02,\n",
      "        3.28655308e-03,  9.24195920e-05,  1.49652141e-03,  6.39671506e-03,\n",
      "        1.48425326e-02,  1.95352663e-03,  7.58799259e-04,  1.96463522e-03,\n",
      "        4.65179374e-03,  4.94399387e-03,  1.16939144e-03,  2.83437129e-03,\n",
      "        8.15122668e-03,  7.85125419e-03,  2.78406008e-03,  2.56137177e-03,\n",
      "        4.18506982e-03,  6.19379617e-03,  4.14773216e-03,  7.69399165e-04,\n",
      "        6.07730588e-04,  7.03367172e-04,  1.77763298e-03,  4.88350750e-04,\n",
      "        2.57906475e-04,  3.21048195e-04,  5.28207980e-04,  7.29945081e-04,\n",
      "        1.43227822e-04,  5.65862319e-05,  5.04426644e-05,  1.96582128e-04,\n",
      "        1.20685218e-04,  8.34112288e-05,  1.35749913e-04,  1.97059300e-04,\n",
      "        3.95784038e-04,  2.49501347e-04,  2.16962871e-04,  1.19297249e-04,\n",
      "        4.45402606e-04,  2.49717239e-04,  4.41980119e-05,  5.55587940e-05,\n",
      "        2.07977748e-04,  1.37646944e-04,  2.16637254e-05,  1.15668936e-05,\n",
      "        4.36569135e-05,  4.44860270e-05,  3.08360686e-05,  1.16908908e-04,\n",
      "        4.30986547e-05,  1.89802449e-05,  3.59482910e-05,  2.14419360e-05,\n",
      "        1.84581277e-05,  2.88377541e-05,  1.16573647e-05,  2.35644202e-05,\n",
      "        2.14530683e-05,  1.44986934e-05,  3.81530808e-05,  3.83497645e-05,\n",
      "        6.34756507e-05,  7.97051252e-05,  7.08459120e-05,  1.41688055e-04,\n",
      "        8.71546799e-05,  6.34548487e-05,  1.57782470e-05,  1.07217311e-05,\n",
      "        1.02108679e-05,  6.10018924e-06,  4.03558806e-06,  4.04768525e-06,\n",
      "        3.65428696e-06,  3.27324597e-06,  3.39012968e-06,  3.16186629e-06,\n",
      "        5.96994505e-06,  7.95148117e-06,  1.07515862e-05,  1.42008630e-05,\n",
      "        6.94725031e-06,  7.41027634e-06,  7.50363142e-06,  7.82817915e-06,\n",
      "        6.26777364e-06,  7.63489516e-06,  9.43035593e-06,  1.55012876e-05,\n",
      "        4.19944918e-05,  3.99517630e-05,  1.10277069e-04,  3.52779636e-04,\n",
      "        5.93611680e-04,  1.16742821e-03,  6.68038265e-04,  3.94773291e-04,\n",
      "        1.64041412e-04,  8.80434382e-05,  5.10776990e-05,  4.76538480e-05,\n",
      "        4.50961597e-05,  2.36119940e-05,  2.89477684e-05,  1.59893480e-05,\n",
      "        1.21731573e-05,  1.22656311e-05,  1.58250223e-05,  1.61905318e-05,\n",
      "        2.15795135e-05,  1.63054137e-05,  2.09771933e-05,  1.56244478e-05,\n",
      "        1.10767978e-05,  7.49208630e-06,  1.36600502e-05,  7.82772622e-06,\n",
      "        5.35544177e-06,  5.53741484e-06,  4.71312705e-06,  3.65635765e-06])]\n"
     ]
    }
   ],
   "source": [
    "print(example_x)"
   ]
  },
  {
   "cell_type": "code",
   "execution_count": 27,
   "id": "df0d9922",
   "metadata": {},
   "outputs": [
    {
     "data": {
      "text/plain": [
       "'calm'"
      ]
     },
     "execution_count": 27,
     "metadata": {},
     "output_type": "execute_result"
    }
   ],
   "source": [
    "model.predict(example_x)[0]"
   ]
  },
  {
   "cell_type": "code",
   "execution_count": null,
   "id": "0362779c",
   "metadata": {},
   "outputs": [],
   "source": []
  }
 ],
 "metadata": {
  "kernelspec": {
   "display_name": "Python 3",
   "language": "python",
   "name": "python3"
  },
  "language_info": {
   "codemirror_mode": {
    "name": "ipython",
    "version": 3
   },
   "file_extension": ".py",
   "mimetype": "text/x-python",
   "name": "python",
   "nbconvert_exporter": "python",
   "pygments_lexer": "ipython3",
   "version": "3.7.4"
  }
 },
 "nbformat": 4,
 "nbformat_minor": 5
}
