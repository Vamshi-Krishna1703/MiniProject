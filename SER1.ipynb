{
 "cells": [
  {
   "cell_type": "code",
   "execution_count": 1,
   "id": "7750cfe1",
   "metadata": {},
   "outputs": [
    {
     "name": "stdout",
     "output_type": "stream",
     "text": [
      "Requirement already satisfied: librosa in c:\\users\\dell\\appdata\\local\\programs\\python\\python37\\lib\\site-packages (0.8.0)\n",
      "Requirement already satisfied: scikit-learn!=0.19.0,>=0.14.0 in c:\\users\\dell\\appdata\\local\\programs\\python\\python37\\lib\\site-packages (from librosa) (0.24.1)\n",
      "Requirement already satisfied: numpy>=1.15.0 in c:\\users\\dell\\appdata\\local\\programs\\python\\python37\\lib\\site-packages (from librosa) (1.18.4)\n",
      "Requirement already satisfied: decorator>=3.0.0 in c:\\users\\dell\\appdata\\local\\programs\\python\\python37\\lib\\site-packages (from librosa) (5.0.6)\n",
      "Requirement already satisfied: resampy>=0.2.2 in c:\\users\\dell\\appdata\\local\\programs\\python\\python37\\lib\\site-packages (from librosa) (0.2.2)\n",
      "Requirement already satisfied: scipy>=1.0.0 in c:\\users\\dell\\appdata\\local\\programs\\python\\python37\\lib\\site-packages (from librosa) (1.5.2)\n",
      "Requirement already satisfied: numba>=0.43.0 in c:\\users\\dell\\appdata\\local\\programs\\python\\python37\\lib\\site-packages (from librosa) (0.53.1)\n",
      "Requirement already satisfied: audioread>=2.0.0 in c:\\users\\dell\\appdata\\local\\programs\\python\\python37\\lib\\site-packages (from librosa) (2.1.9)\n",
      "Requirement already satisfied: pooch>=1.0 in c:\\users\\dell\\appdata\\local\\programs\\python\\python37\\lib\\site-packages (from librosa) (1.3.0)\n",
      "Requirement already satisfied: soundfile>=0.9.0 in c:\\users\\dell\\appdata\\local\\programs\\python\\python37\\lib\\site-packages (from librosa) (0.10.3.post1)\n",
      "Requirement already satisfied: joblib>=0.14 in c:\\users\\dell\\appdata\\local\\programs\\python\\python37\\lib\\site-packages (from librosa) (1.0.1)\n",
      "Requirement already satisfied: threadpoolctl>=2.0.0 in c:\\users\\dell\\appdata\\local\\programs\\python\\python37\\lib\\site-packages (from scikit-learn!=0.19.0,>=0.14.0->librosa) (2.1.0)\n",
      "Requirement already satisfied: six>=1.3 in c:\\users\\dell\\appdata\\local\\programs\\python\\python37\\lib\\site-packages (from resampy>=0.2.2->librosa) (1.15.0)\n",
      "Requirement already satisfied: setuptools in c:\\users\\dell\\appdata\\local\\programs\\python\\python37\\lib\\site-packages (from numba>=0.43.0->librosa) (50.3.0)\n",
      "Requirement already satisfied: llvmlite<0.37,>=0.36.0rc1 in c:\\users\\dell\\appdata\\local\\programs\\python\\python37\\lib\\site-packages (from numba>=0.43.0->librosa) (0.36.0)\n",
      "Requirement already satisfied: packaging in c:\\users\\dell\\appdata\\local\\programs\\python\\python37\\lib\\site-packages (from pooch>=1.0->librosa) (20.9)\n",
      "Requirement already satisfied: requests in c:\\users\\dell\\appdata\\local\\programs\\python\\python37\\lib\\site-packages (from pooch>=1.0->librosa) (2.23.0)\n",
      "Requirement already satisfied: appdirs in c:\\users\\dell\\appdata\\local\\programs\\python\\python37\\lib\\site-packages (from pooch>=1.0->librosa) (1.4.4)\n",
      "Requirement already satisfied: cffi>=1.0 in c:\\users\\dell\\appdata\\local\\programs\\python\\python37\\lib\\site-packages (from soundfile>=0.9.0->librosa) (1.14.5)\n",
      "Requirement already satisfied: pyparsing>=2.0.2 in c:\\users\\dell\\appdata\\local\\programs\\python\\python37\\lib\\site-packages (from packaging->pooch>=1.0->librosa) (2.4.7)\n",
      "Requirement already satisfied: certifi>=2017.4.17 in c:\\users\\dell\\appdata\\local\\programs\\python\\python37\\lib\\site-packages (from requests->pooch>=1.0->librosa) (2020.6.20)\n",
      "Requirement already satisfied: urllib3!=1.25.0,!=1.25.1,<1.26,>=1.21.1 in c:\\users\\dell\\appdata\\local\\programs\\python\\python37\\lib\\site-packages (from requests->pooch>=1.0->librosa) (1.25.9)\n",
      "Requirement already satisfied: idna<3,>=2.5 in c:\\users\\dell\\appdata\\local\\programs\\python\\python37\\lib\\site-packages (from requests->pooch>=1.0->librosa) (2.9)\n",
      "Requirement already satisfied: chardet<4,>=3.0.2 in c:\\users\\dell\\appdata\\local\\programs\\python\\python37\\lib\\site-packages (from requests->pooch>=1.0->librosa) (3.0.4)\n",
      "Requirement already satisfied: pycparser in c:\\users\\dell\\appdata\\local\\programs\\python\\python37\\lib\\site-packages (from cffi>=1.0->soundfile>=0.9.0->librosa) (2.20)\n",
      "Note: you may need to restart the kernel to use updated packages.\n"
     ]
    },
    {
     "name": "stderr",
     "output_type": "stream",
     "text": [
      "You are using pip version 19.0.3, however version 21.1.2 is available.\n",
      "You should consider upgrading via the 'python -m pip install --upgrade pip' command.\n"
     ]
    }
   ],
   "source": [
    "pip install librosa"
   ]
  },
  {
   "cell_type": "code",
   "execution_count": 2,
   "id": "95316ae6",
   "metadata": {},
   "outputs": [
    {
     "name": "stdout",
     "output_type": "stream",
     "text": [
      "Requirement already satisfied: soundfile in c:\\users\\dell\\appdata\\local\\programs\\python\\python37\\lib\\site-packages (0.10.3.post1)\n"
     ]
    },
    {
     "name": "stderr",
     "output_type": "stream",
     "text": [
      "You are using pip version 19.0.3, however version 21.1.2 is available.\n",
      "You should consider upgrading via the 'python -m pip install --upgrade pip' command.\n"
     ]
    },
    {
     "name": "stdout",
     "output_type": "stream",
     "text": [
      "Requirement already satisfied: cffi>=1.0 in c:\\users\\dell\\appdata\\local\\programs\\python\\python37\\lib\\site-packages (from soundfile) (1.14.5)\n",
      "Requirement already satisfied: pycparser in c:\\users\\dell\\appdata\\local\\programs\\python\\python37\\lib\\site-packages (from cffi>=1.0->soundfile) (2.20)\n"
     ]
    }
   ],
   "source": [
    "!pip install soundfile\n"
   ]
  },
  {
   "cell_type": "code",
   "execution_count": 3,
   "id": "fee77481",
   "metadata": {},
   "outputs": [],
   "source": [
    "import librosa\n",
    "import soundfile\n",
    "import os, glob, pickle\n",
    "import numpy as np\n",
    "from sklearn.model_selection import train_test_split\n",
    "from sklearn.neural_network import MLPClassifier\n",
    "from sklearn.metrics import accuracy_score"
   ]
  },
  {
   "cell_type": "code",
   "execution_count": 4,
   "id": "2bb3f44d",
   "metadata": {},
   "outputs": [],
   "source": [
    "import pandas as pd"
   ]
  },
  {
   "cell_type": "code",
   "execution_count": 5,
   "id": "4286e2db",
   "metadata": {},
   "outputs": [],
   "source": [
    "#DataFlair - Extract features (mfcc, chroma, mel) from a sound file\n",
    "def extract_feature(file_name, mfcc, chroma, mel):\n",
    "    X, sample_rate = librosa.load(os.path.join(file_name), res_type='kaiser_fast')\n",
    "    if chroma:\n",
    "        stft=np.abs(librosa.stft(X))\n",
    "    result=np.array([])\n",
    "    if mfcc:\n",
    "        mfccs=np.mean(librosa.feature.mfcc(y=X, sr=sample_rate, n_mfcc=40).T, axis=0)\n",
    "        result=np.hstack((result, mfccs))\n",
    "    if chroma:\n",
    "        chroma=np.mean(librosa.feature.chroma_stft(S=stft, sr=sample_rate).T,axis=0)\n",
    "        result=np.hstack((result, chroma))\n",
    "    if mel:\n",
    "        mel=np.mean(librosa.feature.melspectrogram(X, sr=sample_rate).T,axis=0)\n",
    "        result=np.hstack((result, mel))\n",
    "    return result"
   ]
  },
  {
   "cell_type": "code",
   "execution_count": 6,
   "id": "6c2ffae1",
   "metadata": {},
   "outputs": [],
   "source": [
    "#DataFlair - Emotions in the RAVDESS dataset\n",
    "emotions={\n",
    "  '01':'neutral',\n",
    "  '02':'calm',\n",
    "  '03':'happy',\n",
    "  '04':'sad',\n",
    "  '05':'angry',\n",
    "  '06':'fearful',\n",
    "  '07':'disgust',\n",
    "  '08':'surprised'\n",
    "}\n",
    "\n",
    "#DataFlair - Emotions to observe\n",
    "observed_emotions=['calm', 'happy', 'fearful', 'disgust']"
   ]
  },
  {
   "cell_type": "code",
   "execution_count": 40,
   "id": "8ddd05e8",
   "metadata": {},
   "outputs": [],
   "source": [
    "#DataFlair - Load the data and extract features for each sound file\n",
    "def load_data(test_size=0.2):\n",
    "    x,y=[],[]\n",
    "    for file in glob.glob(\"C:\\\\Users\\\\DELL\\\\Desktop\\\\MiniProject\\\\Data\\\\Actor_*\\\\*.wav\"):\n",
    "        file_name=os.path.basename(file)\n",
    "        emotion=emotions[file_name.split(\"-\")[2]]\n",
    "        if emotion not in observed_emotions:\n",
    "            continue\n",
    "        feature=extract_feature(file, mfcc=True, chroma=True, mel=True)\n",
    "        x.append(feature)\n",
    "        y.append(emotion)\n",
    "    return train_test_split(np.array(x), y, test_size=test_size, train_size= 0.75 ,random_state=9)"
   ]
  },
  {
   "cell_type": "code",
   "execution_count": 41,
   "id": "4ef77057",
   "metadata": {},
   "outputs": [],
   "source": [
    "x_train,x_test,y_train,y_test=load_data(test_size=0.25)"
   ]
  },
  {
   "cell_type": "code",
   "execution_count": 42,
   "id": "6008c2a8",
   "metadata": {},
   "outputs": [
    {
     "name": "stdout",
     "output_type": "stream",
     "text": [
      "(1080, 360)\n"
     ]
    }
   ],
   "source": [
    "#DataFlair - Get the shape of the training and testing datasets\n",
    "print((x_train.shape[0], x_test.shape[0]))\n"
   ]
  },
  {
   "cell_type": "code",
   "execution_count": 43,
   "id": "39ec93d2",
   "metadata": {},
   "outputs": [
    {
     "name": "stdout",
     "output_type": "stream",
     "text": [
      "Features extracted: 180\n"
     ]
    }
   ],
   "source": [
    "#DataFlair - Get the number of features extracted\n",
    "print(f'Features extracted: {x_train.shape[1]}')"
   ]
  },
  {
   "cell_type": "markdown",
   "id": "142e82d6",
   "metadata": {},
   "source": [
    "## Using MLP"
   ]
  },
  {
   "cell_type": "code",
   "execution_count": 44,
   "id": "1eadf92f",
   "metadata": {},
   "outputs": [],
   "source": [
    "#DataFlair - Initialize the Multi Layer Perceptron Classifier\n",
    "model=MLPClassifier(alpha=0.01, batch_size=256, epsilon=1e-08, hidden_layer_sizes=(300,), learning_rate='adaptive', max_iter=500)\n"
   ]
  },
  {
   "cell_type": "code",
   "execution_count": 45,
   "id": "e731eb2e",
   "metadata": {},
   "outputs": [
    {
     "data": {
      "text/plain": [
       "MLPClassifier(alpha=0.01, batch_size=256, hidden_layer_sizes=(300,),\n",
       "              learning_rate='adaptive', max_iter=500)"
      ]
     },
     "execution_count": 45,
     "metadata": {},
     "output_type": "execute_result"
    }
   ],
   "source": [
    "#DataFlair - Train the model\n",
    "model.fit(x_train,y_train)"
   ]
  },
  {
   "cell_type": "code",
   "execution_count": 46,
   "id": "ac80bc27",
   "metadata": {},
   "outputs": [],
   "source": [
    "#DataFlair - Predict for the test set\n",
    "y_pred=model.predict(x_test)\n"
   ]
  },
  {
   "cell_type": "code",
   "execution_count": 47,
   "id": "0660ca7d",
   "metadata": {},
   "outputs": [
    {
     "data": {
      "text/plain": [
       "array(['disgust', 'fearful', 'neutral', 'neutral', 'neutral', 'angry',\n",
       "       'surprised', 'sad', 'happy', 'angry', 'surprised', 'surprised',\n",
       "       'sad', 'sad', 'neutral', 'neutral', 'fearful', 'surprised',\n",
       "       'surprised', 'happy', 'neutral', 'surprised', 'fearful', 'fearful',\n",
       "       'fearful', 'neutral', 'neutral', 'sad', 'sad', 'neutral',\n",
       "       'neutral', 'neutral', 'fearful', 'fearful', 'fearful', 'disgust',\n",
       "       'disgust', 'disgust', 'sad', 'fearful', 'neutral', 'calm',\n",
       "       'fearful', 'disgust', 'angry', 'neutral', 'sad', 'angry',\n",
       "       'fearful', 'neutral', 'fearful', 'happy', 'fearful', 'fearful',\n",
       "       'happy', 'neutral', 'angry', 'surprised', 'happy', 'fearful',\n",
       "       'fearful', 'sad', 'angry', 'surprised', 'fearful', 'happy',\n",
       "       'surprised', 'disgust', 'fearful', 'neutral', 'surprised',\n",
       "       'fearful', 'disgust', 'surprised', 'fearful', 'sad', 'neutral',\n",
       "       'surprised', 'neutral', 'surprised', 'angry', 'neutral',\n",
       "       'surprised', 'angry', 'happy', 'calm', 'surprised', 'fearful',\n",
       "       'neutral', 'neutral', 'surprised', 'happy', 'neutral', 'angry',\n",
       "       'disgust', 'neutral', 'fearful', 'neutral', 'disgust', 'neutral',\n",
       "       'calm', 'sad', 'neutral', 'neutral', 'sad', 'sad', 'angry',\n",
       "       'neutral', 'fearful', 'fearful', 'sad', 'neutral', 'neutral',\n",
       "       'neutral', 'sad', 'calm', 'sad', 'happy', 'happy', 'neutral',\n",
       "       'calm', 'surprised', 'surprised', 'sad', 'angry', 'neutral',\n",
       "       'disgust', 'neutral', 'neutral', 'sad', 'angry', 'fearful',\n",
       "       'happy', 'fearful', 'disgust', 'disgust', 'neutral', 'neutral',\n",
       "       'surprised', 'happy', 'angry', 'calm', 'angry', 'surprised',\n",
       "       'fearful', 'sad', 'fearful', 'neutral', 'angry', 'surprised',\n",
       "       'disgust', 'fearful', 'happy', 'angry', 'angry', 'angry',\n",
       "       'disgust', 'neutral', 'angry', 'surprised', 'disgust', 'fearful',\n",
       "       'disgust', 'neutral', 'disgust', 'neutral', 'neutral', 'sad',\n",
       "       'fearful', 'neutral', 'fearful', 'angry', 'disgust', 'angry',\n",
       "       'fearful', 'neutral', 'neutral', 'sad', 'neutral', 'neutral',\n",
       "       'disgust', 'sad', 'disgust', 'surprised', 'surprised', 'disgust',\n",
       "       'happy', 'sad', 'disgust', 'neutral', 'neutral', 'disgust',\n",
       "       'neutral', 'disgust', 'disgust', 'fearful', 'sad', 'fearful',\n",
       "       'angry', 'sad', 'sad', 'surprised', 'neutral', 'neutral',\n",
       "       'disgust', 'fearful', 'neutral', 'neutral', 'happy', 'fearful',\n",
       "       'angry', 'neutral', 'fearful', 'fearful', 'neutral', 'neutral',\n",
       "       'neutral', 'sad', 'neutral', 'fearful', 'happy', 'sad', 'neutral',\n",
       "       'calm', 'fearful', 'angry', 'surprised', 'sad', 'disgust',\n",
       "       'neutral', 'fearful', 'neutral', 'neutral', 'disgust', 'fearful',\n",
       "       'happy', 'calm', 'disgust', 'neutral', 'angry', 'disgust',\n",
       "       'neutral', 'angry', 'neutral', 'surprised', 'sad', 'neutral',\n",
       "       'neutral', 'fearful', 'surprised', 'calm', 'fearful', 'happy',\n",
       "       'happy', 'surprised', 'calm', 'calm', 'neutral', 'angry',\n",
       "       'surprised', 'surprised', 'surprised', 'surprised', 'neutral',\n",
       "       'neutral', 'fearful', 'disgust', 'disgust', 'fearful', 'neutral',\n",
       "       'fearful', 'surprised', 'happy', 'neutral', 'neutral', 'happy',\n",
       "       'neutral', 'sad', 'fearful', 'disgust', 'happy', 'neutral', 'sad',\n",
       "       'happy', 'calm', 'fearful', 'neutral', 'fearful', 'fearful',\n",
       "       'fearful', 'sad', 'neutral', 'fearful', 'neutral', 'happy',\n",
       "       'angry', 'sad', 'angry', 'neutral', 'surprised', 'fearful',\n",
       "       'surprised', 'neutral', 'sad', 'neutral', 'surprised', 'surprised',\n",
       "       'disgust', 'fearful', 'surprised', 'surprised', 'calm', 'disgust',\n",
       "       'neutral', 'angry', 'neutral', 'surprised', 'surprised', 'calm',\n",
       "       'fearful', 'surprised', 'surprised', 'disgust', 'angry', 'sad',\n",
       "       'neutral', 'angry', 'happy', 'sad', 'neutral', 'neutral',\n",
       "       'surprised', 'surprised', 'neutral', 'neutral', 'happy', 'neutral',\n",
       "       'sad', 'neutral', 'fearful', 'disgust', 'surprised', 'angry',\n",
       "       'fearful', 'surprised', 'fearful', 'fearful', 'angry', 'surprised',\n",
       "       'surprised', 'neutral', 'calm', 'surprised', 'neutral', 'neutral',\n",
       "       'happy', 'angry', 'neutral', 'disgust', 'neutral'], dtype='<U9')"
      ]
     },
     "execution_count": 47,
     "metadata": {},
     "output_type": "execute_result"
    }
   ],
   "source": [
    "y_pred"
   ]
  },
  {
   "cell_type": "code",
   "execution_count": 48,
   "id": "a9a4e0a4",
   "metadata": {},
   "outputs": [
    {
     "name": "stdout",
     "output_type": "stream",
     "text": [
      "Accuracy: 47.50%\n"
     ]
    }
   ],
   "source": [
    "#DataFlair - Calculate the accuracy of our model\n",
    "accuracy=accuracy_score(y_true=y_test, y_pred=y_pred)\n",
    "\n",
    "#DataFlair - Print the accuracy\n",
    "print(\"Accuracy: {:.2f}%\".format(accuracy*100))"
   ]
  },
  {
   "cell_type": "markdown",
   "id": "5ed93e59",
   "metadata": {},
   "source": [
    "## using KNN algo"
   ]
  },
  {
   "cell_type": "code",
   "execution_count": 16,
   "id": "94ac9f76",
   "metadata": {},
   "outputs": [],
   "source": [
    "from sklearn import neighbors"
   ]
  },
  {
   "cell_type": "code",
   "execution_count": 17,
   "id": "e2693d11",
   "metadata": {},
   "outputs": [
    {
     "name": "stdout",
     "output_type": "stream",
     "text": [
      "Prediction : \n",
      "['happy' 'sad' 'happy' 'calm' 'happy' 'angry' 'disgust' 'sad' 'disgust'\n",
      " 'angry' 'surprised' 'calm' 'sad' 'angry' 'calm' 'sad' 'calm' 'angry'\n",
      " 'fearful' 'surprised' 'disgust' 'disgust' 'happy' 'sad' 'angry' 'disgust'\n",
      " 'neutral' 'sad' 'calm' 'happy' 'calm' 'happy' 'happy' 'angry' 'sad'\n",
      " 'surprised' 'calm' 'disgust' 'sad' 'happy' 'neutral' 'calm' 'fearful'\n",
      " 'surprised' 'angry' 'calm' 'happy' 'angry' 'angry' 'calm' 'surprised'\n",
      " 'disgust' 'fearful' 'surprised' 'happy' 'sad' 'angry' 'disgust' 'angry'\n",
      " 'surprised' 'sad' 'sad' 'disgust' 'sad' 'fearful' 'happy' 'disgust'\n",
      " 'disgust' 'happy' 'neutral' 'surprised' 'disgust' 'angry' 'sad'\n",
      " 'surprised' 'sad' 'calm' 'happy' 'calm' 'angry' 'surprised' 'calm'\n",
      " 'surprised' 'angry' 'angry' 'sad' 'happy' 'angry' 'calm' 'calm'\n",
      " 'surprised' 'angry' 'neutral' 'fearful' 'disgust' 'calm' 'fearful' 'calm'\n",
      " 'calm' 'angry' 'calm' 'fearful' 'sad' 'calm' 'happy' 'happy' 'angry'\n",
      " 'fearful' 'fearful' 'fearful' 'calm' 'surprised' 'happy' 'calm' 'calm'\n",
      " 'calm' 'angry' 'happy' 'sad' 'sad' 'calm' 'happy' 'surprised' 'calm'\n",
      " 'angry' 'happy' 'disgust' 'sad' 'fearful' 'neutral' 'angry' 'fearful'\n",
      " 'happy' 'fearful' 'disgust' 'calm' 'neutral' 'happy' 'fearful'\n",
      " 'surprised' 'angry' 'angry' 'angry' 'angry' 'angry' 'neutral' 'happy'\n",
      " 'disgust' 'disgust' 'happy' 'surprised' 'calm' 'happy' 'angry' 'happy'\n",
      " 'angry' 'happy' 'disgust' 'angry' 'fearful' 'angry' 'fearful' 'angry'\n",
      " 'calm' 'angry' 'neutral' 'happy' 'neutral' 'fearful' 'happy' 'happy'\n",
      " 'angry' 'disgust' 'angry' 'surprised' 'calm' 'happy' 'calm' 'calm' 'calm'\n",
      " 'disgust' 'angry' 'neutral' 'angry' 'surprised' 'disgust' 'angry'\n",
      " 'disgust' 'disgust' 'calm' 'neutral' 'disgust' 'sad' 'angry' 'fearful'\n",
      " 'fearful' 'happy' 'fearful' 'angry' 'calm' 'calm' 'angry' 'disgust'\n",
      " 'calm' 'disgust' 'happy' 'neutral' 'neutral' 'angry' 'fearful' 'angry'\n",
      " 'calm' 'fearful' 'fearful' 'calm' 'calm' 'neutral' 'disgust' 'calm'\n",
      " 'disgust' 'surprised' 'surprised' 'calm' 'calm' 'fearful' 'angry' 'angry'\n",
      " 'calm' 'disgust' 'calm' 'angry' 'neutral' 'fearful' 'calm' 'disgust'\n",
      " 'angry' 'calm' 'neutral' 'calm' 'angry' 'neutral' 'fearful' 'surprised'\n",
      " 'calm' 'fearful' 'fearful' 'sad' 'happy' 'disgust' 'surprised' 'calm'\n",
      " 'happy' 'surprised' 'angry' 'fearful' 'neutral' 'calm' 'sad' 'angry'\n",
      " 'surprised' 'angry' 'angry' 'disgust' 'calm' 'calm' 'angry' 'disgust'\n",
      " 'disgust' 'fearful' 'calm' 'angry' 'surprised' 'angry' 'calm' 'happy'\n",
      " 'fearful' 'calm' 'calm' 'fearful' 'happy' 'happy' 'neutral' 'sad' 'angry'\n",
      " 'neutral' 'fearful' 'surprised' 'disgust']\n"
     ]
    }
   ],
   "source": [
    "clf=neighbors.KNeighborsClassifier()\n",
    "clf.fit(x_train,y_train)\n",
    "print(\"Prediction : \")\n",
    "y_pred_2 = clf.predict(x_test)\n",
    "print(y_pred_2)"
   ]
  },
  {
   "cell_type": "code",
   "execution_count": 18,
   "id": "fe4a771c",
   "metadata": {},
   "outputs": [
    {
     "name": "stdout",
     "output_type": "stream",
     "text": [
      "Accuracy: 43.40%\n"
     ]
    }
   ],
   "source": [
    "accuracy=accuracy_score(y_true=y_test, y_pred=y_pred_2)\n",
    "\n",
    "#DataFlair - Print the accuracy\n",
    "print(\"Accuracy: {:.2f}%\".format(accuracy*100))"
   ]
  },
  {
   "cell_type": "markdown",
   "id": "346a8fa4",
   "metadata": {},
   "source": [
    "## Using Decision Tree"
   ]
  },
  {
   "cell_type": "code",
   "execution_count": 19,
   "id": "db2d4cf1",
   "metadata": {},
   "outputs": [],
   "source": [
    "from sklearn import tree\n",
    "clf = tree.DecisionTreeClassifier()\n",
    "clf = clf.fit(x_train,y_train)"
   ]
  },
  {
   "cell_type": "code",
   "execution_count": 20,
   "id": "65dc5cc4",
   "metadata": {},
   "outputs": [
    {
     "data": {
      "text/plain": [
       "array(['neutral', 'surprised', 'disgust', 'disgust', 'fearful', 'angry',\n",
       "       'surprised', 'sad', 'surprised', 'happy', 'surprised', 'neutral',\n",
       "       'neutral', 'neutral', 'calm', 'happy', 'fearful', 'angry',\n",
       "       'fearful', 'disgust', 'disgust', 'fearful', 'happy', 'surprised',\n",
       "       'disgust', 'sad', 'sad', 'sad', 'sad', 'surprised', 'neutral',\n",
       "       'fearful', 'fearful', 'happy', 'fearful', 'fearful', 'sad',\n",
       "       'happy', 'calm', 'sad', 'sad', 'calm', 'fearful', 'disgust',\n",
       "       'happy', 'sad', 'happy', 'happy', 'neutral', 'surprised', 'angry',\n",
       "       'fearful', 'fearful', 'surprised', 'surprised', 'calm', 'angry',\n",
       "       'surprised', 'happy', 'surprised', 'disgust', 'calm', 'surprised',\n",
       "       'calm', 'fearful', 'angry', 'angry', 'sad', 'surprised', 'calm',\n",
       "       'fearful', 'happy', 'surprised', 'fearful', 'angry', 'neutral',\n",
       "       'sad', 'surprised', 'calm', 'surprised', 'surprised', 'surprised',\n",
       "       'angry', 'angry', 'fearful', 'calm', 'disgust', 'sad', 'happy',\n",
       "       'calm', 'surprised', 'sad', 'calm', 'happy', 'disgust', 'sad',\n",
       "       'sad', 'calm', 'calm', 'surprised', 'calm', 'sad', 'sad', 'calm',\n",
       "       'sad', 'neutral', 'angry', 'disgust', 'sad', 'fearful', 'calm',\n",
       "       'disgust', 'disgust', 'neutral', 'calm', 'calm', 'disgust',\n",
       "       'happy', 'sad', 'calm', 'calm', 'surprised', 'surprised', 'calm',\n",
       "       'fearful', 'surprised', 'sad', 'angry', 'fearful', 'happy',\n",
       "       'angry', 'fearful', 'sad', 'fearful', 'surprised', 'fearful',\n",
       "       'neutral', 'happy', 'disgust', 'sad', 'angry', 'disgust', 'angry',\n",
       "       'happy', 'happy', 'neutral', 'fearful', 'sad', 'disgust',\n",
       "       'surprised', 'sad', 'calm', 'happy', 'angry', 'happy', 'angry',\n",
       "       'happy', 'calm', 'angry', 'sad', 'disgust', 'angry', 'disgust',\n",
       "       'happy', 'happy', 'fearful', 'angry', 'calm', 'angry', 'sad',\n",
       "       'fearful', 'angry', 'neutral', 'surprised', 'angry', 'surprised',\n",
       "       'angry', 'calm', 'disgust', 'calm', 'disgust', 'disgust', 'calm',\n",
       "       'happy', 'angry', 'fearful', 'happy', 'sad', 'fearful', 'fearful',\n",
       "       'calm', 'sad', 'disgust', 'angry', 'surprised', 'fearful',\n",
       "       'disgust', 'fearful', 'angry', 'neutral', 'sad', 'surprised',\n",
       "       'disgust', 'neutral', 'happy', 'surprised', 'calm', 'calm',\n",
       "       'surprised', 'surprised', 'angry', 'fearful', 'fearful',\n",
       "       'surprised', 'fearful', 'fearful', 'disgust', 'neutral', 'happy',\n",
       "       'surprised', 'happy', 'sad', 'sad', 'calm', 'fearful', 'angry',\n",
       "       'surprised', 'sad', 'surprised', 'disgust', 'angry', 'sad',\n",
       "       'neutral', 'disgust', 'happy', 'fearful', 'calm', 'disgust',\n",
       "       'calm', 'angry', 'calm', 'surprised', 'disgust', 'neutral',\n",
       "       'surprised', 'fearful', 'calm', 'disgust', 'disgust', 'disgust',\n",
       "       'calm', 'happy', 'angry', 'happy', 'angry', 'neutral', 'neutral',\n",
       "       'sad', 'angry', 'angry', 'happy', 'fearful', 'disgust', 'calm',\n",
       "       'neutral', 'fearful', 'angry', 'surprised', 'fearful', 'calm',\n",
       "       'disgust', 'angry', 'angry', 'calm', 'fearful', 'sad', 'fearful',\n",
       "       'neutral', 'happy', 'happy', 'sad', 'calm', 'sad', 'happy',\n",
       "       'fearful', 'fearful', 'disgust', 'surprised'], dtype='<U9')"
      ]
     },
     "execution_count": 20,
     "metadata": {},
     "output_type": "execute_result"
    }
   ],
   "source": [
    "y_pred_3 = clf.predict(x_test)\n",
    "y_pred_3"
   ]
  },
  {
   "cell_type": "code",
   "execution_count": 21,
   "id": "92ec0e3b",
   "metadata": {},
   "outputs": [
    {
     "name": "stdout",
     "output_type": "stream",
     "text": [
      "Accuracy: 34.72%\n"
     ]
    }
   ],
   "source": [
    "accuracy=accuracy_score(y_true=y_test, y_pred=y_pred_3)\n",
    "\n",
    "#DataFlair - Print the accuracy\n",
    "print(\"Accuracy: {:.2f}%\".format(accuracy*100))"
   ]
  },
  {
   "cell_type": "code",
   "execution_count": 22,
   "id": "c7f5f212",
   "metadata": {},
   "outputs": [
    {
     "name": "stdout",
     "output_type": "stream",
     "text": [
      "['fearful', 'sad', 'happy', 'neutral', 'happy', 'angry', 'surprised', 'sad', 'happy', 'angry', 'angry', 'surprised', 'sad', 'fearful', 'sad', 'surprised', 'neutral', 'surprised', 'fearful', 'surprised', 'surprised', 'surprised', 'fearful', 'sad', 'happy', 'angry', 'neutral', 'sad', 'neutral', 'disgust', 'neutral', 'sad', 'happy', 'fearful', 'sad', 'disgust', 'calm', 'disgust', 'sad', 'sad', 'surprised', 'calm', 'fearful', 'disgust', 'angry', 'calm', 'happy', 'disgust', 'happy', 'calm', 'disgust', 'disgust', 'fearful', 'happy', 'happy', 'neutral', 'angry', 'surprised', 'happy', 'angry', 'fearful', 'angry', 'angry', 'sad', 'fearful', 'happy', 'disgust', 'disgust', 'sad', 'neutral', 'happy', 'surprised', 'angry', 'surprised', 'happy', 'sad', 'calm', 'disgust', 'calm', 'happy', 'happy', 'surprised', 'angry', 'angry', 'happy', 'sad', 'happy', 'fearful', 'calm', 'disgust', 'surprised', 'fearful', 'neutral', 'happy', 'calm', 'calm', 'sad', 'calm', 'disgust', 'disgust', 'calm', 'sad', 'neutral', 'sad', 'happy', 'sad', 'disgust', 'angry', 'fearful', 'happy', 'calm', 'happy', 'surprised', 'neutral', 'calm', 'calm', 'disgust', 'happy', 'happy', 'calm', 'calm', 'surprised', 'surprised', 'neutral', 'fearful', 'happy', 'disgust', 'angry', 'surprised', 'neutral', 'angry', 'fearful', 'disgust', 'fearful', 'calm', 'calm', 'surprised', 'happy', 'surprised', 'happy', 'angry', 'happy', 'angry', 'surprised', 'fearful', 'sad', 'happy', 'calm', 'angry', 'happy', 'angry', 'calm', 'happy', 'angry', 'angry', 'angry', 'disgust', 'disgust', 'angry', 'surprised', 'disgust', 'fearful', 'disgust', 'sad', 'happy', 'happy', 'happy', 'neutral', 'fearful', 'surprised', 'happy', 'angry', 'disgust', 'happy', 'surprised', 'happy', 'angry', 'sad', 'neutral', 'calm', 'disgust', 'happy', 'calm', 'happy', 'surprised', 'angry', 'happy', 'happy', 'disgust', 'sad', 'fearful', 'happy', 'neutral', 'angry', 'happy', 'fearful', 'angry', 'fearful', 'angry', 'neutral', 'neutral', 'sad', 'disgust', 'neutral', 'disgust', 'sad', 'calm', 'sad', 'happy', 'sad', 'angry', 'calm', 'fearful', 'fearful', 'calm', 'sad', 'surprised', 'fearful', 'neutral', 'fearful', 'happy', 'sad', 'sad', 'calm', 'fearful', 'angry', 'angry', 'sad', 'disgust', 'disgust', 'angry', 'neutral', 'sad', 'disgust', 'fearful', 'happy', 'calm', 'disgust', 'neutral', 'angry', 'calm', 'surprised', 'angry', 'calm', 'angry', 'sad', 'fearful', 'happy', 'fearful', 'surprised', 'calm', 'happy', 'happy', 'happy', 'disgust', 'neutral', 'sad', 'calm', 'angry', 'surprised', 'angry', 'surprised', 'surprised', 'calm', 'happy', 'fearful', 'disgust', 'disgust', 'fearful', 'calm', 'fearful', 'surprised', 'happy', 'calm', 'sad', 'fearful', 'fearful', 'neutral', 'fearful', 'fearful', 'happy', 'calm', 'sad', 'happy', 'sad', 'fearful', 'angry', 'calm']\n"
     ]
    }
   ],
   "source": [
    "print(y_test)"
   ]
  },
  {
   "cell_type": "markdown",
   "id": "ff177dfb",
   "metadata": {},
   "source": [
    "## Using ranodm forest calssifier -- so far the best"
   ]
  },
  {
   "cell_type": "code",
   "execution_count": 23,
   "id": "7bff413c",
   "metadata": {},
   "outputs": [],
   "source": [
    "from sklearn.ensemble import RandomForestClassifier"
   ]
  },
  {
   "cell_type": "code",
   "execution_count": 24,
   "id": "1e98106e",
   "metadata": {},
   "outputs": [
    {
     "data": {
      "text/plain": [
       "array(['happy', 'happy', 'disgust', 'calm', 'happy', 'angry', 'disgust',\n",
       "       'sad', 'happy', 'angry', 'surprised', 'calm', 'calm', 'fearful',\n",
       "       'sad', 'calm', 'disgust', 'surprised', 'fearful', 'happy', 'happy',\n",
       "       'surprised', 'fearful', 'sad', 'fearful', 'angry', 'neutral',\n",
       "       'calm', 'calm', 'angry', 'neutral', 'sad', 'fearful', 'angry',\n",
       "       'sad', 'sad', 'calm', 'disgust', 'calm', 'sad', 'calm', 'calm',\n",
       "       'fearful', 'disgust', 'angry', 'calm', 'disgust', 'disgust',\n",
       "       'happy', 'calm', 'angry', 'happy', 'fearful', 'happy', 'surprised',\n",
       "       'calm', 'angry', 'surprised', 'surprised', 'surprised', 'disgust',\n",
       "       'sad', 'surprised', 'sad', 'fearful', 'happy', 'surprised', 'calm',\n",
       "       'happy', 'neutral', 'surprised', 'happy', 'surprised', 'sad',\n",
       "       'happy', 'calm', 'calm', 'happy', 'calm', 'surprised', 'happy',\n",
       "       'disgust', 'surprised', 'happy', 'happy', 'calm', 'surprised',\n",
       "       'fearful', 'calm', 'calm', 'surprised', 'fearful', 'calm', 'happy',\n",
       "       'calm', 'calm', 'sad', 'calm', 'calm', 'angry', 'calm', 'happy',\n",
       "       'sad', 'calm', 'disgust', 'sad', 'happy', 'disgust', 'disgust',\n",
       "       'angry', 'calm', 'happy', 'surprised', 'neutral', 'calm', 'calm',\n",
       "       'disgust', 'happy', 'happy', 'calm', 'calm', 'surprised',\n",
       "       'surprised', 'calm', 'fearful', 'disgust', 'sad', 'disgust',\n",
       "       'disgust', 'neutral', 'angry', 'fearful', 'disgust', 'fearful',\n",
       "       'calm', 'disgust', 'happy', 'happy', 'surprised', 'surprised',\n",
       "       'angry', 'disgust', 'angry', 'happy', 'surprised', 'sad',\n",
       "       'fearful', 'calm', 'happy', 'disgust', 'disgust', 'calm', 'happy',\n",
       "       'angry', 'disgust', 'angry', 'disgust', 'disgust', 'angry',\n",
       "       'surprised', 'disgust', 'angry', 'surprised', 'sad', 'surprised',\n",
       "       'disgust', 'happy', 'calm', 'happy', 'disgust', 'fearful', 'angry',\n",
       "       'surprised', 'happy', 'angry', 'disgust', 'surprised', 'calm',\n",
       "       'calm', 'calm', 'disgust', 'disgust', 'calm', 'surprised',\n",
       "       'surprised', 'disgust', 'happy', 'neutral', 'angry', 'calm',\n",
       "       'calm', 'disgust', 'neutral', 'surprised', 'disgust', 'fearful',\n",
       "       'angry', 'fearful', 'angry', 'neutral', 'calm', 'surprised',\n",
       "       'disgust', 'neutral', 'disgust', 'surprised', 'calm', 'disgust',\n",
       "       'happy', 'surprised', 'angry', 'calm', 'fearful', 'fearful',\n",
       "       'calm', 'calm', 'disgust', 'disgust', 'sad', 'disgust', 'happy',\n",
       "       'sad', 'sad', 'calm', 'fearful', 'angry', 'surprised', 'sad',\n",
       "       'disgust', 'disgust', 'angry', 'sad', 'disgust', 'calm', 'disgust',\n",
       "       'surprised', 'calm', 'calm', 'calm', 'angry', 'calm', 'surprised',\n",
       "       'surprised', 'calm', 'surprised', 'fearful', 'disgust', 'sad',\n",
       "       'disgust', 'surprised', 'calm', 'happy', 'surprised', 'surprised',\n",
       "       'happy', 'calm', 'calm', 'calm', 'angry', 'surprised', 'surprised',\n",
       "       'surprised', 'happy', 'neutral', 'calm', 'angry', 'disgust',\n",
       "       'disgust', 'fearful', 'calm', 'surprised', 'surprised', 'happy',\n",
       "       'calm', 'happy', 'happy', 'calm', 'calm', 'sad', 'disgust',\n",
       "       'fearful', 'calm', 'sad', 'angry', 'calm', 'fearful', 'disgust',\n",
       "       'calm'], dtype='<U9')"
      ]
     },
     "execution_count": 24,
     "metadata": {},
     "output_type": "execute_result"
    }
   ],
   "source": [
    "clf = RandomForestClassifier()\n",
    "clf = clf.fit(x_train,y_train)\n",
    "y_pred_4 = clf.predict(x_test)\n",
    "y_pred_4\n"
   ]
  },
  {
   "cell_type": "code",
   "execution_count": 25,
   "id": "a869c8ca",
   "metadata": {},
   "outputs": [
    {
     "name": "stdout",
     "output_type": "stream",
     "text": [
      "Accuracy: 50.35%\n"
     ]
    }
   ],
   "source": [
    "accuracy=accuracy_score(y_true=y_test, y_pred=y_pred_4)\n",
    "\n",
    "#DataFlair - Print the accuracy\n",
    "print(\"Accuracy: {:.2f}%\".format(accuracy*100))"
   ]
  },
  {
   "cell_type": "markdown",
   "id": "4a8f1c0d",
   "metadata": {},
   "source": [
    "## Linear Discriminant Analysis"
   ]
  },
  {
   "cell_type": "code",
   "execution_count": 26,
   "id": "a6f7abe1",
   "metadata": {},
   "outputs": [],
   "source": [
    "from sklearn.discriminant_analysis import LinearDiscriminantAnalysis"
   ]
  },
  {
   "cell_type": "code",
   "execution_count": 27,
   "id": "375aa99f",
   "metadata": {},
   "outputs": [
    {
     "data": {
      "text/plain": [
       "array(['disgust', 'happy', 'surprised', 'sad', 'happy', 'fearful',\n",
       "       'disgust', 'sad', 'happy', 'surprised', 'surprised', 'calm', 'sad',\n",
       "       'sad', 'neutral', 'calm', 'happy', 'surprised', 'surprised',\n",
       "       'happy', 'calm', 'surprised', 'surprised', 'fearful', 'fearful',\n",
       "       'surprised', 'sad', 'sad', 'calm', 'surprised', 'disgust', 'sad',\n",
       "       'fearful', 'fearful', 'sad', 'disgust', 'calm', 'happy', 'sad',\n",
       "       'fearful', 'surprised', 'calm', 'angry', 'disgust', 'happy', 'sad',\n",
       "       'happy', 'angry', 'happy', 'neutral', 'surprised', 'happy',\n",
       "       'fearful', 'fearful', 'happy', 'sad', 'angry', 'surprised',\n",
       "       'happy', 'surprised', 'disgust', 'sad', 'angry', 'surprised',\n",
       "       'fearful', 'happy', 'surprised', 'calm', 'happy', 'neutral',\n",
       "       'fearful', 'disgust', 'surprised', 'surprised', 'happy', 'sad',\n",
       "       'calm', 'surprised', 'calm', 'surprised', 'angry', 'calm',\n",
       "       'surprised', 'happy', 'surprised', 'calm', 'fearful', 'fearful',\n",
       "       'calm', 'disgust', 'surprised', 'angry', 'calm', 'happy',\n",
       "       'disgust', 'sad', 'sad', 'calm', 'calm', 'surprised', 'calm',\n",
       "       'sad', 'neutral', 'sad', 'sad', 'sad', 'happy', 'calm',\n",
       "       'surprised', 'surprised', 'sad', 'neutral', 'happy', 'happy',\n",
       "       'calm', 'calm', 'disgust', 'happy', 'surprised', 'calm', 'calm',\n",
       "       'surprised', 'surprised', 'sad', 'fearful', 'happy', 'disgust',\n",
       "       'disgust', 'surprised', 'sad', 'fearful', 'fearful', 'happy',\n",
       "       'fearful', 'calm', 'disgust', 'sad', 'neutral', 'surprised',\n",
       "       'happy', 'angry', 'calm', 'fearful', 'happy', 'surprised', 'sad',\n",
       "       'disgust', 'calm', 'angry', 'calm', 'surprised', 'sad', 'disgust',\n",
       "       'angry', 'angry', 'angry', 'sad', 'neutral', 'disgust',\n",
       "       'surprised', 'disgust', 'fearful', 'disgust', 'calm', 'disgust',\n",
       "       'disgust', 'disgust', 'sad', 'fearful', 'surprised', 'happy',\n",
       "       'disgust', 'disgust', 'angry', 'disgust', 'happy', 'sad', 'sad',\n",
       "       'neutral', 'calm', 'disgust', 'sad', 'sad', 'surprised',\n",
       "       'surprised', 'disgust', 'surprised', 'sad', 'disgust', 'calm',\n",
       "       'calm', 'surprised', 'sad', 'disgust', 'disgust', 'happy', 'sad',\n",
       "       'sad', 'surprised', 'sad', 'sad', 'sad', 'fearful', 'calm',\n",
       "       'happy', 'happy', 'sad', 'calm', 'happy', 'fearful', 'happy',\n",
       "       'calm', 'fearful', 'happy', 'calm', 'calm', 'calm', 'sad',\n",
       "       'neutral', 'fearful', 'happy', 'sad', 'sad', 'calm', 'fearful',\n",
       "       'angry', 'disgust', 'calm', 'disgust', 'neutral', 'happy',\n",
       "       'neutral', 'disgust', 'calm', 'happy', 'surprised', 'calm',\n",
       "       'surprised', 'calm', 'fearful', 'disgust', 'surprised', 'disgust',\n",
       "       'sad', 'surprised', 'sad', 'surprised', 'surprised', 'fearful',\n",
       "       'fearful', 'calm', 'happy', 'happy', 'happy', 'surprised', 'calm',\n",
       "       'calm', 'sad', 'calm', 'surprised', 'angry', 'disgust',\n",
       "       'surprised', 'neutral', 'disgust', 'fearful', 'disgust', 'disgust',\n",
       "       'fearful', 'neutral', 'angry', 'disgust', 'happy', 'calm', 'happy',\n",
       "       'surprised', 'neutral', 'calm', 'happy', 'disgust', 'happy',\n",
       "       'calm', 'calm', 'fearful', 'calm', 'surprised', 'disgust',\n",
       "       'fearful'], dtype='<U9')"
      ]
     },
     "execution_count": 27,
     "metadata": {},
     "output_type": "execute_result"
    }
   ],
   "source": [
    "clf = LinearDiscriminantAnalysis()\n",
    "clf = clf.fit(x_train,y_train)\n",
    "y_pred_5 = clf.predict(x_test)\n",
    "y_pred_5"
   ]
  },
  {
   "cell_type": "code",
   "execution_count": 28,
   "id": "5a6e909a",
   "metadata": {},
   "outputs": [
    {
     "name": "stdout",
     "output_type": "stream",
     "text": [
      "Accuracy: 40.62%\n"
     ]
    }
   ],
   "source": [
    "accuracy=accuracy_score(y_true=y_test, y_pred=y_pred_5)\n",
    "\n",
    "#DataFlair - Print the accuracy\n",
    "print(\"Accuracy: {:.2f}%\".format(accuracy*100))"
   ]
  },
  {
   "cell_type": "markdown",
   "id": "d830e633",
   "metadata": {},
   "source": [
    "## Using NuSVC"
   ]
  },
  {
   "cell_type": "code",
   "execution_count": 29,
   "id": "74cb4d08",
   "metadata": {},
   "outputs": [],
   "source": [
    "from sklearn.svm import NuSVC"
   ]
  },
  {
   "cell_type": "code",
   "execution_count": 30,
   "id": "120d3fdb",
   "metadata": {},
   "outputs": [
    {
     "data": {
      "text/plain": [
       "NuSVC(probability=True)"
      ]
     },
     "execution_count": 30,
     "metadata": {},
     "output_type": "execute_result"
    }
   ],
   "source": [
    "clf = NuSVC(probability=True)\n",
    "clf.fit(x_train,y_train)"
   ]
  },
  {
   "cell_type": "code",
   "execution_count": 31,
   "id": "5cc99aba",
   "metadata": {},
   "outputs": [
    {
     "data": {
      "text/plain": [
       "array(['surprised', 'fearful', 'disgust', 'sad', 'fearful', 'angry',\n",
       "       'surprised', 'sad', 'happy', 'angry', 'surprised', 'calm', 'sad',\n",
       "       'sad', 'neutral', 'calm', 'disgust', 'surprised', 'surprised',\n",
       "       'happy', 'calm', 'surprised', 'fearful', 'fearful', 'happy',\n",
       "       'surprised', 'sad', 'sad', 'sad', 'fearful', 'calm', 'sad',\n",
       "       'fearful', 'fearful', 'fearful', 'disgust', 'calm', 'disgust',\n",
       "       'sad', 'sad', 'calm', 'calm', 'angry', 'disgust', 'surprised',\n",
       "       'sad', 'happy', 'disgust', 'happy', 'sad', 'surprised', 'happy',\n",
       "       'fearful', 'fearful', 'happy', 'sad', 'angry', 'surprised',\n",
       "       'happy', 'surprised', 'disgust', 'sad', 'angry', 'sad', 'fearful',\n",
       "       'happy', 'surprised', 'calm', 'fearful', 'sad', 'fearful',\n",
       "       'fearful', 'surprised', 'neutral', 'fearful', 'sad', 'calm',\n",
       "       'surprised', 'calm', 'happy', 'angry', 'sad', 'surprised', 'happy',\n",
       "       'angry', 'calm', 'surprised', 'fearful', 'neutral', 'calm',\n",
       "       'surprised', 'angry', 'calm', 'angry', 'calm', 'sad', 'happy',\n",
       "       'sad', 'calm', 'surprised', 'calm', 'fearful', 'neutral', 'sad',\n",
       "       'sad', 'calm', 'happy', 'disgust', 'surprised', 'happy', 'calm',\n",
       "       'fearful', 'surprised', 'neutral', 'sad', 'calm', 'surprised',\n",
       "       'happy', 'calm', 'calm', 'disgust', 'surprised', 'surprised',\n",
       "       'calm', 'fearful', 'happy', 'calm', 'calm', 'surprised', 'sad',\n",
       "       'angry', 'fearful', 'happy', 'angry', 'calm', 'disgust', 'sad',\n",
       "       'sad', 'angry', 'happy', 'angry', 'surprised', 'angry', 'happy',\n",
       "       'surprised', 'sad', 'happy', 'disgust', 'angry', 'happy',\n",
       "       'surprised', 'calm', 'happy', 'angry', 'happy', 'angry', 'calm',\n",
       "       'calm', 'angry', 'calm', 'disgust', 'fearful', 'disgust', 'calm',\n",
       "       'disgust', 'disgust', 'happy', 'calm', 'fearful', 'calm',\n",
       "       'fearful', 'angry', 'disgust', 'angry', 'fearful', 'happy',\n",
       "       'surprised', 'sad', 'neutral', 'calm', 'disgust', 'sad', 'calm',\n",
       "       'surprised', 'fearful', 'disgust', 'happy', 'sad', 'surprised',\n",
       "       'calm', 'neutral', 'surprised', 'calm', 'disgust', 'disgust',\n",
       "       'fearful', 'sad', 'fearful', 'angry', 'sad', 'sad', 'fearful',\n",
       "       'sad', 'calm', 'disgust', 'fearful', 'sad', 'calm', 'happy',\n",
       "       'fearful', 'angry', 'calm', 'happy', 'fearful', 'calm', 'neutral',\n",
       "       'calm', 'sad', 'neutral', 'surprised', 'happy', 'sad', 'neutral',\n",
       "       'calm', 'surprised', 'angry', 'disgust', 'calm', 'disgust', 'sad',\n",
       "       'fearful', 'neutral', 'disgust', 'calm', 'fearful', 'surprised',\n",
       "       'calm', 'calm', 'neutral', 'angry', 'calm', 'surprised', 'disgust',\n",
       "       'sad', 'angry', 'sad', 'calm', 'disgust', 'disgust', 'sad', 'calm',\n",
       "       'disgust', 'happy', 'surprised', 'surprised', 'calm', 'calm',\n",
       "       'sad', 'angry', 'surprised', 'happy', 'fearful', 'surprised',\n",
       "       'neutral', 'sad', 'fearful', 'disgust', 'angry', 'fearful', 'calm',\n",
       "       'fearful', 'surprised', 'happy', 'disgust', 'happy', 'angry',\n",
       "       'neutral', 'calm', 'fearful', 'disgust', 'happy', 'calm', 'sad',\n",
       "       'happy', 'calm', 'fearful', 'surprised', 'calm'], dtype='<U9')"
      ]
     },
     "execution_count": 31,
     "metadata": {},
     "output_type": "execute_result"
    }
   ],
   "source": [
    "y_pred_6 = clf.predict(x_test)\n",
    "y_pred_6"
   ]
  },
  {
   "cell_type": "code",
   "execution_count": 32,
   "id": "7b5c8c6f",
   "metadata": {},
   "outputs": [
    {
     "name": "stdout",
     "output_type": "stream",
     "text": [
      "Accuracy: 43.75%\n"
     ]
    }
   ],
   "source": [
    "accuracy=accuracy_score(y_true=y_test, y_pred=y_pred_6)\n",
    "\n",
    "#DataFlair - Print the accuracy\n",
    "print(\"Accuracy: {:.2f}%\".format(accuracy*100))"
   ]
  },
  {
   "cell_type": "code",
   "execution_count": null,
   "id": "9bffa488",
   "metadata": {},
   "outputs": [],
   "source": []
  }
 ],
 "metadata": {
  "kernelspec": {
   "display_name": "Python 3",
   "language": "python",
   "name": "python3"
  },
  "language_info": {
   "codemirror_mode": {
    "name": "ipython",
    "version": 3
   },
   "file_extension": ".py",
   "mimetype": "text/x-python",
   "name": "python",
   "nbconvert_exporter": "python",
   "pygments_lexer": "ipython3",
   "version": "3.7.4"
  }
 },
 "nbformat": 4,
 "nbformat_minor": 5
}
